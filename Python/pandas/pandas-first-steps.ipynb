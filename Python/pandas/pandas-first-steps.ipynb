{
 "cells": [
  {
   "cell_type": "code",
   "execution_count": 75,
   "metadata": {},
   "outputs": [],
   "source": [
    "import pandas as pd\n",
    "import numpy as np"
   ]
  },
  {
   "cell_type": "code",
   "execution_count": 76,
   "metadata": {},
   "outputs": [
    {
     "data": {
      "text/plain": [
       "0    1\n",
       "1    2\n",
       "2    3\n",
       "3    4\n",
       "4    5\n",
       "dtype: int64"
      ]
     },
     "execution_count": 76,
     "metadata": {},
     "output_type": "execute_result"
    }
   ],
   "source": [
    "series = pd.Series([1, 2, 3, 4, 5])\n",
    "series"
   ]
  },
  {
   "cell_type": "code",
   "execution_count": 77,
   "metadata": {},
   "outputs": [
    {
     "data": {
      "text/plain": [
       "dtype('int64')"
      ]
     },
     "execution_count": 77,
     "metadata": {},
     "output_type": "execute_result"
    }
   ],
   "source": [
    "series.dtype"
   ]
  },
  {
   "cell_type": "code",
   "execution_count": 78,
   "metadata": {},
   "outputs": [
    {
     "data": {
      "text/plain": [
       "RangeIndex(start=0, stop=5, step=1)"
      ]
     },
     "execution_count": 78,
     "metadata": {},
     "output_type": "execute_result"
    }
   ],
   "source": [
    "series.index"
   ]
  },
  {
   "cell_type": "code",
   "execution_count": 79,
   "metadata": {},
   "outputs": [
    {
     "data": {
      "text/plain": [
       "c    1\n",
       "b    2\n",
       "a    3\n",
       "dtype: int64"
      ]
     },
     "execution_count": 79,
     "metadata": {},
     "output_type": "execute_result"
    }
   ],
   "source": [
    "series = pd.Series([1, 2, 3], index=['c', 'b', 'a'])\n",
    "series"
   ]
  },
  {
   "cell_type": "code",
   "execution_count": 80,
   "metadata": {},
   "outputs": [
    {
     "data": {
      "text/plain": [
       "Index(['c', 'b', 'a'], dtype='object')"
      ]
     },
     "execution_count": 80,
     "metadata": {},
     "output_type": "execute_result"
    }
   ],
   "source": [
    "series.index"
   ]
  },
  {
   "cell_type": "code",
   "execution_count": 81,
   "metadata": {},
   "outputs": [
    {
     "data": {
      "text/plain": [
       "2"
      ]
     },
     "execution_count": 81,
     "metadata": {},
     "output_type": "execute_result"
    }
   ],
   "source": [
    "series[1]"
   ]
  },
  {
   "cell_type": "code",
   "execution_count": 82,
   "metadata": {},
   "outputs": [
    {
     "data": {
      "text/plain": [
       "2"
      ]
     },
     "execution_count": 82,
     "metadata": {},
     "output_type": "execute_result"
    }
   ],
   "source": [
    "series['b']"
   ]
  },
  {
   "cell_type": "code",
   "execution_count": 83,
   "metadata": {},
   "outputs": [
    {
     "data": {
      "text/plain": [
       "a    3\n",
       "b    2\n",
       "dtype: int64"
      ]
     },
     "execution_count": 83,
     "metadata": {},
     "output_type": "execute_result"
    }
   ],
   "source": [
    "series[['a', 'b']]"
   ]
  },
  {
   "cell_type": "code",
   "execution_count": 84,
   "metadata": {},
   "outputs": [
    {
     "data": {
      "text/plain": [
       "b    2\n",
       "b    2\n",
       "dtype: int64"
      ]
     },
     "execution_count": 84,
     "metadata": {},
     "output_type": "execute_result"
    }
   ],
   "source": [
    "series[['b', 'b']]"
   ]
  },
  {
   "cell_type": "code",
   "execution_count": 85,
   "metadata": {},
   "outputs": [
    {
     "data": {
      "text/plain": [
       "c    1\n",
       "b    4\n",
       "a    9\n",
       "dtype: int64"
      ]
     },
     "execution_count": 85,
     "metadata": {},
     "output_type": "execute_result"
    }
   ],
   "source": [
    "# Numpy vectorizations/functions can be performed on pandas Series\n",
    "series ** 2"
   ]
  },
  {
   "cell_type": "code",
   "execution_count": 86,
   "metadata": {},
   "outputs": [
    {
     "data": {
      "text/plain": [
       "True"
      ]
     },
     "execution_count": 86,
     "metadata": {},
     "output_type": "execute_result"
    }
   ],
   "source": [
    "# Indexes can be checked for existance with 'in' ...\n",
    "'a' in series"
   ]
  },
  {
   "cell_type": "code",
   "execution_count": 87,
   "metadata": {},
   "outputs": [
    {
     "data": {
      "text/plain": [
       "False"
      ]
     },
     "execution_count": 87,
     "metadata": {},
     "output_type": "execute_result"
    }
   ],
   "source": [
    "# ... values can not.\n",
    "1 in series"
   ]
  },
  {
   "cell_type": "code",
   "execution_count": 88,
   "metadata": {},
   "outputs": [
    {
     "data": {
      "text/plain": [
       "freezer 5 mile               5\n",
       "armory night at the races    1\n",
       "ocean breeze miles mania     1\n",
       "dtype: int64"
      ]
     },
     "execution_count": 88,
     "metadata": {},
     "output_type": "execute_result"
    }
   ],
   "source": [
    "# You can create a series with a dictionary\n",
    "races = {'freezer 5 mile': 5, 'armory night at the races': 1, 'ocean breeze miles mania': 1}\n",
    "pd.Series(races)"
   ]
  },
  {
   "cell_type": "code",
   "execution_count": 89,
   "metadata": {},
   "outputs": [
    {
     "data": {
      "text/plain": [
       "0    NaN\n",
       "1    1.0\n",
       "2    2.0\n",
       "3    4.0\n",
       "4    8.0\n",
       "dtype: float64"
      ]
     },
     "execution_count": 89,
     "metadata": {},
     "output_type": "execute_result"
    }
   ],
   "source": [
    "series = pd.Series({1: 1, 2: 2, 3: 4, 4: 8}, np.arange(5))\n",
    "series"
   ]
  },
  {
   "cell_type": "code",
   "execution_count": 90,
   "metadata": {},
   "outputs": [
    {
     "data": {
      "text/plain": [
       "0     True\n",
       "1    False\n",
       "2    False\n",
       "3    False\n",
       "4    False\n",
       "dtype: bool"
      ]
     },
     "execution_count": 90,
     "metadata": {},
     "output_type": "execute_result"
    }
   ],
   "source": [
    "pd.isnull(series)"
   ]
  },
  {
   "cell_type": "code",
   "execution_count": 91,
   "metadata": {},
   "outputs": [
    {
     "data": {
      "text/plain": [
       "0    False\n",
       "1     True\n",
       "2     True\n",
       "3     True\n",
       "4     True\n",
       "dtype: bool"
      ]
     },
     "execution_count": 91,
     "metadata": {},
     "output_type": "execute_result"
    }
   ],
   "source": [
    "pd.notnull(series)"
   ]
  },
  {
   "cell_type": "code",
   "execution_count": 92,
   "metadata": {},
   "outputs": [
    {
     "data": {
      "text/plain": [
       "True"
      ]
     },
     "execution_count": 92,
     "metadata": {},
     "output_type": "execute_result"
    }
   ],
   "source": [
    "(pd.notnull(series) == series.notnull()).all()"
   ]
  },
  {
   "cell_type": "code",
   "execution_count": 93,
   "metadata": {},
   "outputs": [
    {
     "data": {
      "text/plain": [
       "True"
      ]
     },
     "execution_count": 93,
     "metadata": {},
     "output_type": "execute_result"
    }
   ],
   "source": [
    "(pd.isnull(series) == series.isnull()).all()"
   ]
  },
  {
   "cell_type": "code",
   "execution_count": 94,
   "metadata": {},
   "outputs": [
    {
     "data": {
      "text/plain": [
       "16    NaN\n",
       "17    3.0\n",
       "18    0.7\n",
       "19    0.0\n",
       "dtype: float64"
      ]
     },
     "execution_count": 94,
     "metadata": {},
     "output_type": "execute_result"
    }
   ],
   "source": [
    "# It didn't actually snow :(\n",
    "snow = pd.Series([3, 0.1, 0], index=[17, 18, 19])\n",
    "rain = pd.Series([1.1, 0, 0.6, 0], index=[16, 17, 18, 19])\n",
    "\n",
    "snow + rain"
   ]
  },
  {
   "cell_type": "code",
   "execution_count": 95,
   "metadata": {},
   "outputs": [
    {
     "data": {
      "text/plain": [
       "17    3.0\n",
       "18    0.1\n",
       "19    0.0\n",
       "Name: snow, dtype: float64"
      ]
     },
     "execution_count": 95,
     "metadata": {},
     "output_type": "execute_result"
    }
   ],
   "source": [
    "snow.name = 'snow'\n",
    "snow"
   ]
  },
  {
   "cell_type": "code",
   "execution_count": 96,
   "metadata": {},
   "outputs": [
    {
     "data": {
      "text/plain": [
       "Feb 17th    3.0\n",
       "Feb 18th    0.1\n",
       "Feb 19th    0.0\n",
       "Name: snow, dtype: float64"
      ]
     },
     "execution_count": 96,
     "metadata": {},
     "output_type": "execute_result"
    }
   ],
   "source": [
    "snow.index = ['Feb 17th', 'Feb 18th', 'Feb 19th']\n",
    "snow"
   ]
  },
  {
   "cell_type": "code",
   "execution_count": 97,
   "metadata": {},
   "outputs": [
    {
     "data": {
      "text/html": [
       "<div>\n",
       "<style scoped>\n",
       "    .dataframe tbody tr th:only-of-type {\n",
       "        vertical-align: middle;\n",
       "    }\n",
       "\n",
       "    .dataframe tbody tr th {\n",
       "        vertical-align: top;\n",
       "    }\n",
       "\n",
       "    .dataframe thead th {\n",
       "        text-align: right;\n",
       "    }\n",
       "</style>\n",
       "<table border=\"1\" class=\"dataframe\">\n",
       "  <thead>\n",
       "    <tr style=\"text-align: right;\">\n",
       "      <th></th>\n",
       "      <th>user</th>\n",
       "      <th>type</th>\n",
       "      <th>date</th>\n",
       "      <th>time</th>\n",
       "    </tr>\n",
       "  </thead>\n",
       "  <tbody>\n",
       "    <tr>\n",
       "      <th>0</th>\n",
       "      <td>andy</td>\n",
       "      <td>run</td>\n",
       "      <td>02-19-2020</td>\n",
       "      <td>20:15</td>\n",
       "    </tr>\n",
       "    <tr>\n",
       "      <th>1</th>\n",
       "      <td>andy</td>\n",
       "      <td>core</td>\n",
       "      <td>02-19-2020</td>\n",
       "      <td>8:00</td>\n",
       "    </tr>\n",
       "    <tr>\n",
       "      <th>2</th>\n",
       "      <td>andy</td>\n",
       "      <td>run</td>\n",
       "      <td>02-18-2020</td>\n",
       "      <td>16:00</td>\n",
       "    </tr>\n",
       "  </tbody>\n",
       "</table>\n",
       "</div>"
      ],
      "text/plain": [
       "   user  type        date   time\n",
       "0  andy   run  02-19-2020  20:15\n",
       "1  andy  core  02-19-2020   8:00\n",
       "2  andy   run  02-18-2020  16:00"
      ]
     },
     "execution_count": 97,
     "metadata": {},
     "output_type": "execute_result"
    }
   ],
   "source": [
    "runs = {\n",
    "    'user': ['andy', 'andy', 'andy'],\n",
    "    'type': ['run', 'core', 'run'],\n",
    "    'date': ['02-19-2020', '02-19-2020', '02-18-2020'],\n",
    "    'time': ['20:15', '8:00', '16:00']\n",
    "}\n",
    "frame = pd.DataFrame(runs)\n",
    "frame"
   ]
  },
  {
   "cell_type": "code",
   "execution_count": 98,
   "metadata": {},
   "outputs": [
    {
     "data": {
      "text/html": [
       "<div>\n",
       "<style scoped>\n",
       "    .dataframe tbody tr th:only-of-type {\n",
       "        vertical-align: middle;\n",
       "    }\n",
       "\n",
       "    .dataframe tbody tr th {\n",
       "        vertical-align: top;\n",
       "    }\n",
       "\n",
       "    .dataframe thead th {\n",
       "        text-align: right;\n",
       "    }\n",
       "</style>\n",
       "<table border=\"1\" class=\"dataframe\">\n",
       "  <thead>\n",
       "    <tr style=\"text-align: right;\">\n",
       "      <th></th>\n",
       "      <th>user</th>\n",
       "      <th>type</th>\n",
       "      <th>date</th>\n",
       "      <th>time</th>\n",
       "    </tr>\n",
       "  </thead>\n",
       "  <tbody>\n",
       "    <tr>\n",
       "      <th>0</th>\n",
       "      <td>andy</td>\n",
       "      <td>run</td>\n",
       "      <td>02-19-2020</td>\n",
       "      <td>20:15</td>\n",
       "    </tr>\n",
       "    <tr>\n",
       "      <th>1</th>\n",
       "      <td>andy</td>\n",
       "      <td>core</td>\n",
       "      <td>02-19-2020</td>\n",
       "      <td>8:00</td>\n",
       "    </tr>\n",
       "  </tbody>\n",
       "</table>\n",
       "</div>"
      ],
      "text/plain": [
       "   user  type        date   time\n",
       "0  andy   run  02-19-2020  20:15\n",
       "1  andy  core  02-19-2020   8:00"
      ]
     },
     "execution_count": 98,
     "metadata": {},
     "output_type": "execute_result"
    }
   ],
   "source": [
    "frame.head(2)"
   ]
  },
  {
   "cell_type": "code",
   "execution_count": 99,
   "metadata": {},
   "outputs": [
    {
     "data": {
      "text/html": [
       "<div>\n",
       "<style scoped>\n",
       "    .dataframe tbody tr th:only-of-type {\n",
       "        vertical-align: middle;\n",
       "    }\n",
       "\n",
       "    .dataframe tbody tr th {\n",
       "        vertical-align: top;\n",
       "    }\n",
       "\n",
       "    .dataframe thead th {\n",
       "        text-align: right;\n",
       "    }\n",
       "</style>\n",
       "<table border=\"1\" class=\"dataframe\">\n",
       "  <thead>\n",
       "    <tr style=\"text-align: right;\">\n",
       "      <th></th>\n",
       "      <th>user</th>\n",
       "      <th>type</th>\n",
       "      <th>date</th>\n",
       "      <th>time</th>\n",
       "    </tr>\n",
       "  </thead>\n",
       "  <tbody>\n",
       "    <tr>\n",
       "      <th>1</th>\n",
       "      <td>andy</td>\n",
       "      <td>core</td>\n",
       "      <td>02-19-2020</td>\n",
       "      <td>8:00</td>\n",
       "    </tr>\n",
       "    <tr>\n",
       "      <th>2</th>\n",
       "      <td>andy</td>\n",
       "      <td>run</td>\n",
       "      <td>02-18-2020</td>\n",
       "      <td>16:00</td>\n",
       "    </tr>\n",
       "  </tbody>\n",
       "</table>\n",
       "</div>"
      ],
      "text/plain": [
       "   user  type        date   time\n",
       "1  andy  core  02-19-2020   8:00\n",
       "2  andy   run  02-18-2020  16:00"
      ]
     },
     "execution_count": 99,
     "metadata": {},
     "output_type": "execute_result"
    }
   ],
   "source": [
    "frame.tail(2)"
   ]
  },
  {
   "cell_type": "code",
   "execution_count": 100,
   "metadata": {},
   "outputs": [
    {
     "data": {
      "text/plain": [
       "0    20:15\n",
       "1     8:00\n",
       "2    16:00\n",
       "Name: time, dtype: object"
      ]
     },
     "execution_count": 100,
     "metadata": {},
     "output_type": "execute_result"
    }
   ],
   "source": [
    "frame.time"
   ]
  },
  {
   "cell_type": "code",
   "execution_count": 101,
   "metadata": {},
   "outputs": [
    {
     "data": {
      "text/plain": [
       "0    20:15\n",
       "1     8:00\n",
       "2    16:00\n",
       "Name: time, dtype: object"
      ]
     },
     "execution_count": 101,
     "metadata": {},
     "output_type": "execute_result"
    }
   ],
   "source": [
    "frame['time']"
   ]
  },
  {
   "cell_type": "code",
   "execution_count": 102,
   "metadata": {},
   "outputs": [
    {
     "data": {
      "text/html": [
       "<div>\n",
       "<style scoped>\n",
       "    .dataframe tbody tr th:only-of-type {\n",
       "        vertical-align: middle;\n",
       "    }\n",
       "\n",
       "    .dataframe tbody tr th {\n",
       "        vertical-align: top;\n",
       "    }\n",
       "\n",
       "    .dataframe thead th {\n",
       "        text-align: right;\n",
       "    }\n",
       "</style>\n",
       "<table border=\"1\" class=\"dataframe\">\n",
       "  <thead>\n",
       "    <tr style=\"text-align: right;\">\n",
       "      <th></th>\n",
       "      <th>user</th>\n",
       "      <th>type</th>\n",
       "      <th>date</th>\n",
       "      <th>time</th>\n",
       "    </tr>\n",
       "  </thead>\n",
       "  <tbody>\n",
       "    <tr>\n",
       "      <th>0</th>\n",
       "      <td>andy</td>\n",
       "      <td>run</td>\n",
       "      <td>02-19-2020</td>\n",
       "      <td>10:00</td>\n",
       "    </tr>\n",
       "    <tr>\n",
       "      <th>1</th>\n",
       "      <td>andy</td>\n",
       "      <td>core</td>\n",
       "      <td>02-19-2020</td>\n",
       "      <td>10:00</td>\n",
       "    </tr>\n",
       "    <tr>\n",
       "      <th>2</th>\n",
       "      <td>andy</td>\n",
       "      <td>run</td>\n",
       "      <td>02-18-2020</td>\n",
       "      <td>10:00</td>\n",
       "    </tr>\n",
       "  </tbody>\n",
       "</table>\n",
       "</div>"
      ],
      "text/plain": [
       "   user  type        date   time\n",
       "0  andy   run  02-19-2020  10:00\n",
       "1  andy  core  02-19-2020  10:00\n",
       "2  andy   run  02-18-2020  10:00"
      ]
     },
     "execution_count": 102,
     "metadata": {},
     "output_type": "execute_result"
    }
   ],
   "source": [
    "frame['time'] = '10:00'\n",
    "frame"
   ]
  },
  {
   "cell_type": "code",
   "execution_count": 103,
   "metadata": {},
   "outputs": [
    {
     "data": {
      "text/html": [
       "<div>\n",
       "<style scoped>\n",
       "    .dataframe tbody tr th:only-of-type {\n",
       "        vertical-align: middle;\n",
       "    }\n",
       "\n",
       "    .dataframe tbody tr th {\n",
       "        vertical-align: top;\n",
       "    }\n",
       "\n",
       "    .dataframe thead th {\n",
       "        text-align: right;\n",
       "    }\n",
       "</style>\n",
       "<table border=\"1\" class=\"dataframe\">\n",
       "  <thead>\n",
       "    <tr style=\"text-align: right;\">\n",
       "      <th></th>\n",
       "      <th>user</th>\n",
       "      <th>type</th>\n",
       "      <th>date</th>\n",
       "      <th>time</th>\n",
       "    </tr>\n",
       "  </thead>\n",
       "  <tbody>\n",
       "    <tr>\n",
       "      <th>0</th>\n",
       "      <td>andy</td>\n",
       "      <td>run</td>\n",
       "      <td>02-19-2020</td>\n",
       "      <td>25:00</td>\n",
       "    </tr>\n",
       "    <tr>\n",
       "      <th>1</th>\n",
       "      <td>andy</td>\n",
       "      <td>core</td>\n",
       "      <td>02-19-2020</td>\n",
       "      <td>8:00</td>\n",
       "    </tr>\n",
       "    <tr>\n",
       "      <th>2</th>\n",
       "      <td>andy</td>\n",
       "      <td>run</td>\n",
       "      <td>02-18-2020</td>\n",
       "      <td>20:00</td>\n",
       "    </tr>\n",
       "  </tbody>\n",
       "</table>\n",
       "</div>"
      ],
      "text/plain": [
       "   user  type        date   time\n",
       "0  andy   run  02-19-2020  25:00\n",
       "1  andy  core  02-19-2020   8:00\n",
       "2  andy   run  02-18-2020  20:00"
      ]
     },
     "execution_count": 103,
     "metadata": {},
     "output_type": "execute_result"
    }
   ],
   "source": [
    "frame['time'] = np.array(['25:00', '8:00', '20:00'])\n",
    "frame"
   ]
  },
  {
   "cell_type": "code",
   "execution_count": 104,
   "metadata": {},
   "outputs": [
    {
     "data": {
      "text/html": [
       "<div>\n",
       "<style scoped>\n",
       "    .dataframe tbody tr th:only-of-type {\n",
       "        vertical-align: middle;\n",
       "    }\n",
       "\n",
       "    .dataframe tbody tr th {\n",
       "        vertical-align: top;\n",
       "    }\n",
       "\n",
       "    .dataframe thead th {\n",
       "        text-align: right;\n",
       "    }\n",
       "</style>\n",
       "<table border=\"1\" class=\"dataframe\">\n",
       "  <thead>\n",
       "    <tr style=\"text-align: right;\">\n",
       "      <th></th>\n",
       "      <th>user</th>\n",
       "      <th>type</th>\n",
       "      <th>date</th>\n",
       "      <th>time</th>\n",
       "    </tr>\n",
       "  </thead>\n",
       "  <tbody>\n",
       "    <tr>\n",
       "      <th>0</th>\n",
       "      <td>andy</td>\n",
       "      <td>run</td>\n",
       "      <td>02-03-2020</td>\n",
       "      <td>25:00</td>\n",
       "    </tr>\n",
       "    <tr>\n",
       "      <th>1</th>\n",
       "      <td>andy</td>\n",
       "      <td>core</td>\n",
       "      <td>02-01-2020</td>\n",
       "      <td>8:00</td>\n",
       "    </tr>\n",
       "    <tr>\n",
       "      <th>2</th>\n",
       "      <td>andy</td>\n",
       "      <td>run</td>\n",
       "      <td>02-02-2020</td>\n",
       "      <td>20:00</td>\n",
       "    </tr>\n",
       "  </tbody>\n",
       "</table>\n",
       "</div>"
      ],
      "text/plain": [
       "   user  type        date   time\n",
       "0  andy   run  02-03-2020  25:00\n",
       "1  andy  core  02-01-2020   8:00\n",
       "2  andy   run  02-02-2020  20:00"
      ]
     },
     "execution_count": 104,
     "metadata": {},
     "output_type": "execute_result"
    }
   ],
   "source": [
    "frame['date'] = pd.Series(['02-01-2020', '02-02-2020', '02-03-2020'], index=[1, 2, 0])\n",
    "frame"
   ]
  },
  {
   "cell_type": "code",
   "execution_count": 105,
   "metadata": {},
   "outputs": [
    {
     "data": {
      "text/plain": [
       "Index(['user', 'type', 'date', 'time'], dtype='object')"
      ]
     },
     "execution_count": 105,
     "metadata": {},
     "output_type": "execute_result"
    }
   ],
   "source": [
    "frame.columns"
   ]
  },
  {
   "cell_type": "code",
   "execution_count": 106,
   "metadata": {},
   "outputs": [
    {
     "data": {
      "text/html": [
       "<div>\n",
       "<style scoped>\n",
       "    .dataframe tbody tr th:only-of-type {\n",
       "        vertical-align: middle;\n",
       "    }\n",
       "\n",
       "    .dataframe tbody tr th {\n",
       "        vertical-align: top;\n",
       "    }\n",
       "\n",
       "    .dataframe thead th {\n",
       "        text-align: right;\n",
       "    }\n",
       "</style>\n",
       "<table border=\"1\" class=\"dataframe\">\n",
       "  <thead>\n",
       "    <tr style=\"text-align: right;\">\n",
       "      <th></th>\n",
       "      <th>user</th>\n",
       "      <th>type</th>\n",
       "      <th>date</th>\n",
       "      <th>time</th>\n",
       "      <th>distance</th>\n",
       "    </tr>\n",
       "  </thead>\n",
       "  <tbody>\n",
       "    <tr>\n",
       "      <th>0</th>\n",
       "      <td>andy</td>\n",
       "      <td>run</td>\n",
       "      <td>02-03-2020</td>\n",
       "      <td>25:00</td>\n",
       "      <td>3.5</td>\n",
       "    </tr>\n",
       "    <tr>\n",
       "      <th>1</th>\n",
       "      <td>andy</td>\n",
       "      <td>core</td>\n",
       "      <td>02-01-2020</td>\n",
       "      <td>8:00</td>\n",
       "      <td>NaN</td>\n",
       "    </tr>\n",
       "    <tr>\n",
       "      <th>2</th>\n",
       "      <td>andy</td>\n",
       "      <td>run</td>\n",
       "      <td>02-02-2020</td>\n",
       "      <td>20:00</td>\n",
       "      <td>3.0</td>\n",
       "    </tr>\n",
       "  </tbody>\n",
       "</table>\n",
       "</div>"
      ],
      "text/plain": [
       "   user  type        date   time  distance\n",
       "0  andy   run  02-03-2020  25:00       3.5\n",
       "1  andy  core  02-01-2020   8:00       NaN\n",
       "2  andy   run  02-02-2020  20:00       3.0"
      ]
     },
     "execution_count": 106,
     "metadata": {},
     "output_type": "execute_result"
    }
   ],
   "source": [
    "frame['distance'] = pd.Series([3.5, 3], index=[0, 2])\n",
    "frame"
   ]
  },
  {
   "cell_type": "code",
   "execution_count": 107,
   "metadata": {},
   "outputs": [
    {
     "data": {
      "text/html": [
       "<div>\n",
       "<style scoped>\n",
       "    .dataframe tbody tr th:only-of-type {\n",
       "        vertical-align: middle;\n",
       "    }\n",
       "\n",
       "    .dataframe tbody tr th {\n",
       "        vertical-align: top;\n",
       "    }\n",
       "\n",
       "    .dataframe thead th {\n",
       "        text-align: right;\n",
       "    }\n",
       "</style>\n",
       "<table border=\"1\" class=\"dataframe\">\n",
       "  <thead>\n",
       "    <tr style=\"text-align: right;\">\n",
       "      <th></th>\n",
       "      <th>user</th>\n",
       "      <th>type</th>\n",
       "      <th>date</th>\n",
       "      <th>time</th>\n",
       "    </tr>\n",
       "  </thead>\n",
       "  <tbody>\n",
       "    <tr>\n",
       "      <th>0</th>\n",
       "      <td>andy</td>\n",
       "      <td>run</td>\n",
       "      <td>02-03-2020</td>\n",
       "      <td>25:00</td>\n",
       "    </tr>\n",
       "    <tr>\n",
       "      <th>1</th>\n",
       "      <td>andy</td>\n",
       "      <td>core</td>\n",
       "      <td>02-01-2020</td>\n",
       "      <td>8:00</td>\n",
       "    </tr>\n",
       "    <tr>\n",
       "      <th>2</th>\n",
       "      <td>andy</td>\n",
       "      <td>run</td>\n",
       "      <td>02-02-2020</td>\n",
       "      <td>20:00</td>\n",
       "    </tr>\n",
       "  </tbody>\n",
       "</table>\n",
       "</div>"
      ],
      "text/plain": [
       "   user  type        date   time\n",
       "0  andy   run  02-03-2020  25:00\n",
       "1  andy  core  02-01-2020   8:00\n",
       "2  andy   run  02-02-2020  20:00"
      ]
     },
     "execution_count": 107,
     "metadata": {},
     "output_type": "execute_result"
    }
   ],
   "source": [
    "del frame['distance']\n",
    "frame"
   ]
  },
  {
   "cell_type": "code",
   "execution_count": 108,
   "metadata": {},
   "outputs": [
    {
     "data": {
      "text/html": [
       "<div>\n",
       "<style scoped>\n",
       "    .dataframe tbody tr th:only-of-type {\n",
       "        vertical-align: middle;\n",
       "    }\n",
       "\n",
       "    .dataframe tbody tr th {\n",
       "        vertical-align: top;\n",
       "    }\n",
       "\n",
       "    .dataframe thead th {\n",
       "        text-align: right;\n",
       "    }\n",
       "</style>\n",
       "<table border=\"1\" class=\"dataframe\">\n",
       "  <thead>\n",
       "    <tr style=\"text-align: right;\">\n",
       "      <th></th>\n",
       "      <th>0</th>\n",
       "      <th>1</th>\n",
       "      <th>2</th>\n",
       "    </tr>\n",
       "  </thead>\n",
       "  <tbody>\n",
       "    <tr>\n",
       "      <th>user</th>\n",
       "      <td>andy</td>\n",
       "      <td>andy</td>\n",
       "      <td>andy</td>\n",
       "    </tr>\n",
       "    <tr>\n",
       "      <th>type</th>\n",
       "      <td>run</td>\n",
       "      <td>core</td>\n",
       "      <td>run</td>\n",
       "    </tr>\n",
       "    <tr>\n",
       "      <th>date</th>\n",
       "      <td>02-03-2020</td>\n",
       "      <td>02-01-2020</td>\n",
       "      <td>02-02-2020</td>\n",
       "    </tr>\n",
       "    <tr>\n",
       "      <th>time</th>\n",
       "      <td>25:00</td>\n",
       "      <td>8:00</td>\n",
       "      <td>20:00</td>\n",
       "    </tr>\n",
       "  </tbody>\n",
       "</table>\n",
       "</div>"
      ],
      "text/plain": [
       "               0           1           2\n",
       "user        andy        andy        andy\n",
       "type         run        core         run\n",
       "date  02-03-2020  02-01-2020  02-02-2020\n",
       "time       25:00        8:00       20:00"
      ]
     },
     "execution_count": 108,
     "metadata": {},
     "output_type": "execute_result"
    }
   ],
   "source": [
    "frame.T"
   ]
  },
  {
   "cell_type": "code",
   "execution_count": 109,
   "metadata": {},
   "outputs": [
    {
     "data": {
      "text/html": [
       "<div>\n",
       "<style scoped>\n",
       "    .dataframe tbody tr th:only-of-type {\n",
       "        vertical-align: middle;\n",
       "    }\n",
       "\n",
       "    .dataframe tbody tr th {\n",
       "        vertical-align: top;\n",
       "    }\n",
       "\n",
       "    .dataframe thead th {\n",
       "        text-align: right;\n",
       "    }\n",
       "</style>\n",
       "<table border=\"1\" class=\"dataframe\">\n",
       "  <thead>\n",
       "    <tr style=\"text-align: right;\">\n",
       "      <th></th>\n",
       "      <th>user</th>\n",
       "      <th>type</th>\n",
       "      <th>date</th>\n",
       "      <th>time</th>\n",
       "    </tr>\n",
       "  </thead>\n",
       "  <tbody>\n",
       "    <tr>\n",
       "      <th>0</th>\n",
       "      <td>andy</td>\n",
       "      <td>run</td>\n",
       "      <td>02-03-2020</td>\n",
       "      <td>25:00</td>\n",
       "    </tr>\n",
       "    <tr>\n",
       "      <th>1</th>\n",
       "      <td>andy</td>\n",
       "      <td>core</td>\n",
       "      <td>02-01-2020</td>\n",
       "      <td>8:00</td>\n",
       "    </tr>\n",
       "    <tr>\n",
       "      <th>2</th>\n",
       "      <td>andy</td>\n",
       "      <td>run</td>\n",
       "      <td>02-02-2020</td>\n",
       "      <td>20:00</td>\n",
       "    </tr>\n",
       "  </tbody>\n",
       "</table>\n",
       "</div>"
      ],
      "text/plain": [
       "   user  type        date   time\n",
       "0  andy   run  02-03-2020  25:00\n",
       "1  andy  core  02-01-2020   8:00\n",
       "2  andy   run  02-02-2020  20:00"
      ]
     },
     "execution_count": 109,
     "metadata": {},
     "output_type": "execute_result"
    }
   ],
   "source": [
    "frame.T.T"
   ]
  },
  {
   "cell_type": "code",
   "execution_count": 110,
   "metadata": {},
   "outputs": [
    {
     "data": {
      "text/plain": [
       "array([['andy', 'run', '02-03-2020', '25:00'],\n",
       "       ['andy', 'core', '02-01-2020', '8:00'],\n",
       "       ['andy', 'run', '02-02-2020', '20:00']], dtype=object)"
      ]
     },
     "execution_count": 110,
     "metadata": {},
     "output_type": "execute_result"
    }
   ],
   "source": [
    "frame.values"
   ]
  },
  {
   "cell_type": "code",
   "execution_count": 111,
   "metadata": {},
   "outputs": [
    {
     "data": {
      "text/plain": [
       "Index(['a', 'b', 'c'], dtype='object')"
      ]
     },
     "execution_count": 111,
     "metadata": {},
     "output_type": "execute_result"
    }
   ],
   "source": [
    "# Indexes in pandas are immutable\n",
    "index = pd.Index(['a', 'b', 'c'])\n",
    "index"
   ]
  },
  {
   "cell_type": "code",
   "execution_count": 112,
   "metadata": {},
   "outputs": [
    {
     "name": "stdout",
     "output_type": "stream",
     "text": [
      "Index does not support mutable operations\n"
     ]
    }
   ],
   "source": [
    "try:\n",
    "    index[3] = 'd'\n",
    "except TypeError as e:\n",
    "    print(e)"
   ]
  },
  {
   "cell_type": "code",
   "execution_count": 113,
   "metadata": {},
   "outputs": [
    {
     "data": {
      "text/plain": [
       "RangeIndex(start=0, stop=3, step=1)"
      ]
     },
     "execution_count": 113,
     "metadata": {},
     "output_type": "execute_result"
    }
   ],
   "source": [
    "frame.index"
   ]
  },
  {
   "cell_type": "code",
   "execution_count": 115,
   "metadata": {},
   "outputs": [
    {
     "data": {
      "text/html": [
       "<div>\n",
       "<style scoped>\n",
       "    .dataframe tbody tr th:only-of-type {\n",
       "        vertical-align: middle;\n",
       "    }\n",
       "\n",
       "    .dataframe tbody tr th {\n",
       "        vertical-align: top;\n",
       "    }\n",
       "\n",
       "    .dataframe thead th {\n",
       "        text-align: right;\n",
       "    }\n",
       "</style>\n",
       "<table border=\"1\" class=\"dataframe\">\n",
       "  <thead>\n",
       "    <tr style=\"text-align: right;\">\n",
       "      <th></th>\n",
       "      <th>user</th>\n",
       "      <th>type</th>\n",
       "      <th>date</th>\n",
       "      <th>time</th>\n",
       "    </tr>\n",
       "  </thead>\n",
       "  <tbody>\n",
       "    <tr>\n",
       "      <th>1</th>\n",
       "      <td>andy</td>\n",
       "      <td>core</td>\n",
       "      <td>02-01-2020</td>\n",
       "      <td>8:00</td>\n",
       "    </tr>\n",
       "    <tr>\n",
       "      <th>2</th>\n",
       "      <td>andy</td>\n",
       "      <td>run</td>\n",
       "      <td>02-02-2020</td>\n",
       "      <td>20:00</td>\n",
       "    </tr>\n",
       "    <tr>\n",
       "      <th>0</th>\n",
       "      <td>andy</td>\n",
       "      <td>run</td>\n",
       "      <td>02-03-2020</td>\n",
       "      <td>25:00</td>\n",
       "    </tr>\n",
       "  </tbody>\n",
       "</table>\n",
       "</div>"
      ],
      "text/plain": [
       "   user  type        date   time\n",
       "1  andy  core  02-01-2020   8:00\n",
       "2  andy   run  02-02-2020  20:00\n",
       "0  andy   run  02-03-2020  25:00"
      ]
     },
     "execution_count": 115,
     "metadata": {},
     "output_type": "execute_result"
    }
   ],
   "source": [
    "frame.reindex([1, 2, 0])"
   ]
  },
  {
   "cell_type": "code",
   "execution_count": 116,
   "metadata": {},
   "outputs": [
    {
     "data": {
      "text/html": [
       "<div>\n",
       "<style scoped>\n",
       "    .dataframe tbody tr th:only-of-type {\n",
       "        vertical-align: middle;\n",
       "    }\n",
       "\n",
       "    .dataframe tbody tr th {\n",
       "        vertical-align: top;\n",
       "    }\n",
       "\n",
       "    .dataframe thead th {\n",
       "        text-align: right;\n",
       "    }\n",
       "</style>\n",
       "<table border=\"1\" class=\"dataframe\">\n",
       "  <thead>\n",
       "    <tr style=\"text-align: right;\">\n",
       "      <th></th>\n",
       "      <th>user</th>\n",
       "      <th>type</th>\n",
       "      <th>date</th>\n",
       "      <th>time</th>\n",
       "    </tr>\n",
       "  </thead>\n",
       "  <tbody>\n",
       "    <tr>\n",
       "      <th>0</th>\n",
       "      <td>andy</td>\n",
       "      <td>run</td>\n",
       "      <td>02-03-2020</td>\n",
       "      <td>25:00</td>\n",
       "    </tr>\n",
       "    <tr>\n",
       "      <th>1</th>\n",
       "      <td>andy</td>\n",
       "      <td>core</td>\n",
       "      <td>02-01-2020</td>\n",
       "      <td>8:00</td>\n",
       "    </tr>\n",
       "  </tbody>\n",
       "</table>\n",
       "</div>"
      ],
      "text/plain": [
       "   user  type        date   time\n",
       "0  andy   run  02-03-2020  25:00\n",
       "1  andy  core  02-01-2020   8:00"
      ]
     },
     "execution_count": 116,
     "metadata": {},
     "output_type": "execute_result"
    }
   ],
   "source": [
    "frame.drop(2)"
   ]
  },
  {
   "cell_type": "code",
   "execution_count": 117,
   "metadata": {},
   "outputs": [
    {
     "data": {
      "text/html": [
       "<div>\n",
       "<style scoped>\n",
       "    .dataframe tbody tr th:only-of-type {\n",
       "        vertical-align: middle;\n",
       "    }\n",
       "\n",
       "    .dataframe tbody tr th {\n",
       "        vertical-align: top;\n",
       "    }\n",
       "\n",
       "    .dataframe thead th {\n",
       "        text-align: right;\n",
       "    }\n",
       "</style>\n",
       "<table border=\"1\" class=\"dataframe\">\n",
       "  <thead>\n",
       "    <tr style=\"text-align: right;\">\n",
       "      <th></th>\n",
       "      <th>user</th>\n",
       "      <th>type</th>\n",
       "      <th>date</th>\n",
       "      <th>time</th>\n",
       "    </tr>\n",
       "  </thead>\n",
       "  <tbody>\n",
       "    <tr>\n",
       "      <th>1</th>\n",
       "      <td>andy</td>\n",
       "      <td>core</td>\n",
       "      <td>02-01-2020</td>\n",
       "      <td>8:00</td>\n",
       "    </tr>\n",
       "  </tbody>\n",
       "</table>\n",
       "</div>"
      ],
      "text/plain": [
       "   user  type        date  time\n",
       "1  andy  core  02-01-2020  8:00"
      ]
     },
     "execution_count": 117,
     "metadata": {},
     "output_type": "execute_result"
    }
   ],
   "source": [
    "frame.drop([0, 2])"
   ]
  },
  {
   "cell_type": "code",
   "execution_count": 118,
   "metadata": {},
   "outputs": [
    {
     "data": {
      "text/html": [
       "<div>\n",
       "<style scoped>\n",
       "    .dataframe tbody tr th:only-of-type {\n",
       "        vertical-align: middle;\n",
       "    }\n",
       "\n",
       "    .dataframe tbody tr th {\n",
       "        vertical-align: top;\n",
       "    }\n",
       "\n",
       "    .dataframe thead th {\n",
       "        text-align: right;\n",
       "    }\n",
       "</style>\n",
       "<table border=\"1\" class=\"dataframe\">\n",
       "  <thead>\n",
       "    <tr style=\"text-align: right;\">\n",
       "      <th></th>\n",
       "      <th>type</th>\n",
       "      <th>date</th>\n",
       "      <th>time</th>\n",
       "    </tr>\n",
       "  </thead>\n",
       "  <tbody>\n",
       "    <tr>\n",
       "      <th>0</th>\n",
       "      <td>run</td>\n",
       "      <td>02-03-2020</td>\n",
       "      <td>25:00</td>\n",
       "    </tr>\n",
       "    <tr>\n",
       "      <th>1</th>\n",
       "      <td>core</td>\n",
       "      <td>02-01-2020</td>\n",
       "      <td>8:00</td>\n",
       "    </tr>\n",
       "    <tr>\n",
       "      <th>2</th>\n",
       "      <td>run</td>\n",
       "      <td>02-02-2020</td>\n",
       "      <td>20:00</td>\n",
       "    </tr>\n",
       "  </tbody>\n",
       "</table>\n",
       "</div>"
      ],
      "text/plain": [
       "   type        date   time\n",
       "0   run  02-03-2020  25:00\n",
       "1  core  02-01-2020   8:00\n",
       "2   run  02-02-2020  20:00"
      ]
     },
     "execution_count": 118,
     "metadata": {},
     "output_type": "execute_result"
    }
   ],
   "source": [
    "frame.drop('user', axis=1)"
   ]
  },
  {
   "cell_type": "code",
   "execution_count": 119,
   "metadata": {},
   "outputs": [
    {
     "data": {
      "text/html": [
       "<div>\n",
       "<style scoped>\n",
       "    .dataframe tbody tr th:only-of-type {\n",
       "        vertical-align: middle;\n",
       "    }\n",
       "\n",
       "    .dataframe tbody tr th {\n",
       "        vertical-align: top;\n",
       "    }\n",
       "\n",
       "    .dataframe thead th {\n",
       "        text-align: right;\n",
       "    }\n",
       "</style>\n",
       "<table border=\"1\" class=\"dataframe\">\n",
       "  <thead>\n",
       "    <tr style=\"text-align: right;\">\n",
       "      <th></th>\n",
       "      <th>user</th>\n",
       "      <th>type</th>\n",
       "      <th>date</th>\n",
       "    </tr>\n",
       "  </thead>\n",
       "  <tbody>\n",
       "    <tr>\n",
       "      <th>0</th>\n",
       "      <td>andy</td>\n",
       "      <td>run</td>\n",
       "      <td>02-03-2020</td>\n",
       "    </tr>\n",
       "    <tr>\n",
       "      <th>1</th>\n",
       "      <td>andy</td>\n",
       "      <td>core</td>\n",
       "      <td>02-01-2020</td>\n",
       "    </tr>\n",
       "    <tr>\n",
       "      <th>2</th>\n",
       "      <td>andy</td>\n",
       "      <td>run</td>\n",
       "      <td>02-02-2020</td>\n",
       "    </tr>\n",
       "  </tbody>\n",
       "</table>\n",
       "</div>"
      ],
      "text/plain": [
       "   user  type        date\n",
       "0  andy   run  02-03-2020\n",
       "1  andy  core  02-01-2020\n",
       "2  andy   run  02-02-2020"
      ]
     },
     "execution_count": 119,
     "metadata": {},
     "output_type": "execute_result"
    }
   ],
   "source": [
    "frame.drop('time', axis=1, inplace=True)\n",
    "frame"
   ]
  },
  {
   "cell_type": "code",
   "execution_count": 131,
   "metadata": {},
   "outputs": [
    {
     "data": {
      "text/html": [
       "<div>\n",
       "<style scoped>\n",
       "    .dataframe tbody tr th:only-of-type {\n",
       "        vertical-align: middle;\n",
       "    }\n",
       "\n",
       "    .dataframe tbody tr th {\n",
       "        vertical-align: top;\n",
       "    }\n",
       "\n",
       "    .dataframe thead th {\n",
       "        text-align: right;\n",
       "    }\n",
       "</style>\n",
       "<table border=\"1\" class=\"dataframe\">\n",
       "  <thead>\n",
       "    <tr style=\"text-align: right;\">\n",
       "      <th></th>\n",
       "      <th>8K</th>\n",
       "      <th>6K</th>\n",
       "      <th>5K</th>\n",
       "      <th>10000m</th>\n",
       "      <th>5000m</th>\n",
       "      <th>3000m</th>\n",
       "      <th>1 Mile</th>\n",
       "      <th>1500m</th>\n",
       "    </tr>\n",
       "  </thead>\n",
       "  <tbody>\n",
       "    <tr>\n",
       "      <th>Thomas Caulfield</th>\n",
       "      <td>24:20.80</td>\n",
       "      <td>18:58.80</td>\n",
       "      <td>15:32.00</td>\n",
       "      <td>None</td>\n",
       "      <td>14:23.21</td>\n",
       "      <td>8:32.83</td>\n",
       "      <td>4:20.59</td>\n",
       "      <td>3:54.67</td>\n",
       "    </tr>\n",
       "    <tr>\n",
       "      <th>Joseph Smith</th>\n",
       "      <td>24:33.50</td>\n",
       "      <td>19:10.20</td>\n",
       "      <td>15:39.00</td>\n",
       "      <td>None</td>\n",
       "      <td>None</td>\n",
       "      <td>8:52.60</td>\n",
       "      <td>4:20.39</td>\n",
       "      <td>3:57.78</td>\n",
       "    </tr>\n",
       "    <tr>\n",
       "      <th>Ben Fishbein</th>\n",
       "      <td>24:58.80</td>\n",
       "      <td>19:25.80</td>\n",
       "      <td>15:59.00</td>\n",
       "      <td>31:51.73</td>\n",
       "      <td>15:27.01</td>\n",
       "      <td>8:51.80</td>\n",
       "      <td>4:40.34</td>\n",
       "      <td>None</td>\n",
       "    </tr>\n",
       "    <tr>\n",
       "      <th>Lisa Grohn</th>\n",
       "      <td>None</td>\n",
       "      <td>20:54.00</td>\n",
       "      <td>17:31.60</td>\n",
       "      <td>35:50.22</td>\n",
       "      <td>16:44.14</td>\n",
       "      <td>9:47.70</td>\n",
       "      <td>4:57.53</td>\n",
       "      <td>4:32.14</td>\n",
       "    </tr>\n",
       "    <tr>\n",
       "      <th>Andy Jarombek</th>\n",
       "      <td>26:24.20</td>\n",
       "      <td>20:20.50</td>\n",
       "      <td>16:38.40</td>\n",
       "      <td>None</td>\n",
       "      <td>15:27.64</td>\n",
       "      <td>9:03.60</td>\n",
       "      <td>4:40.76</td>\n",
       "      <td>4:08.17</td>\n",
       "    </tr>\n",
       "  </tbody>\n",
       "</table>\n",
       "</div>"
      ],
      "text/plain": [
       "                        8K        6K        5K    10000m     5000m    3000m  \\\n",
       "Thomas Caulfield  24:20.80  18:58.80  15:32.00      None  14:23.21  8:32.83   \n",
       "Joseph Smith      24:33.50  19:10.20  15:39.00      None      None  8:52.60   \n",
       "Ben Fishbein      24:58.80  19:25.80  15:59.00  31:51.73  15:27.01  8:51.80   \n",
       "Lisa Grohn            None  20:54.00  17:31.60  35:50.22  16:44.14  9:47.70   \n",
       "Andy Jarombek     26:24.20  20:20.50  16:38.40      None  15:27.64  9:03.60   \n",
       "\n",
       "                   1 Mile    1500m  \n",
       "Thomas Caulfield  4:20.59  3:54.67  \n",
       "Joseph Smith      4:20.39  3:57.78  \n",
       "Ben Fishbein      4:40.34     None  \n",
       "Lisa Grohn        4:57.53  4:32.14  \n",
       "Andy Jarombek     4:40.76  4:08.17  "
      ]
     },
     "execution_count": 131,
     "metadata": {},
     "output_type": "execute_result"
    }
   ],
   "source": [
    "data_xctf = {\n",
    "    '8K': ['24:20.80', '24:33.50', '24:58.80', None, '26:24.20'],\n",
    "    '6K': ['18:58.80', '19:10.20', '19:25.80', '20:54.00', '20:20.50'],\n",
    "    '5K': ['15:32.00', '15:39.00', '15:59.00', '17:31.60', '16:38.40'],\n",
    "    '10000m': [None, None, '31:51.73', '35:50.22', None],\n",
    "    '5000m': ['14:23.21', None, '15:27.01', '16:44.14', '15:27.64'],\n",
    "    '3000m': ['8:32.83', '8:52.60', '8:51.80', '9:47.70', '9:03.60'],\n",
    "    '1 Mile': ['4:20.59', '4:20.39', '4:40.34', '4:57.53', '4:40.76'],\n",
    "    '1500m': ['3:54.67', '3:57.78', None, '4:32.14', '4:08.17']\n",
    "}\n",
    "run_dataframe = pd.DataFrame(data_xctf, index=['Thomas Caulfield', 'Joseph Smith', 'Ben Fishbein', 'Lisa Grohn', 'Andy Jarombek'])\n",
    "run_dataframe"
   ]
  },
  {
   "cell_type": "code",
   "execution_count": 132,
   "metadata": {},
   "outputs": [
    {
     "data": {
      "text/html": [
       "<div>\n",
       "<style scoped>\n",
       "    .dataframe tbody tr th:only-of-type {\n",
       "        vertical-align: middle;\n",
       "    }\n",
       "\n",
       "    .dataframe tbody tr th {\n",
       "        vertical-align: top;\n",
       "    }\n",
       "\n",
       "    .dataframe thead th {\n",
       "        text-align: right;\n",
       "    }\n",
       "</style>\n",
       "<table border=\"1\" class=\"dataframe\">\n",
       "  <thead>\n",
       "    <tr style=\"text-align: right;\">\n",
       "      <th></th>\n",
       "      <th>8K</th>\n",
       "      <th>6K</th>\n",
       "      <th>5K</th>\n",
       "      <th>10000m</th>\n",
       "      <th>5000m</th>\n",
       "      <th>3000m</th>\n",
       "      <th>1 Mile</th>\n",
       "      <th>1500m</th>\n",
       "    </tr>\n",
       "  </thead>\n",
       "  <tbody>\n",
       "    <tr>\n",
       "      <th>Joseph Smith</th>\n",
       "      <td>24:33.50</td>\n",
       "      <td>19:10.20</td>\n",
       "      <td>15:39.00</td>\n",
       "      <td>None</td>\n",
       "      <td>None</td>\n",
       "      <td>8:52.60</td>\n",
       "      <td>4:20.39</td>\n",
       "      <td>3:57.78</td>\n",
       "    </tr>\n",
       "    <tr>\n",
       "      <th>Ben Fishbein</th>\n",
       "      <td>24:58.80</td>\n",
       "      <td>19:25.80</td>\n",
       "      <td>15:59.00</td>\n",
       "      <td>31:51.73</td>\n",
       "      <td>15:27.01</td>\n",
       "      <td>8:51.80</td>\n",
       "      <td>4:40.34</td>\n",
       "      <td>None</td>\n",
       "    </tr>\n",
       "    <tr>\n",
       "      <th>Lisa Grohn</th>\n",
       "      <td>None</td>\n",
       "      <td>20:54.00</td>\n",
       "      <td>17:31.60</td>\n",
       "      <td>35:50.22</td>\n",
       "      <td>16:44.14</td>\n",
       "      <td>9:47.70</td>\n",
       "      <td>4:57.53</td>\n",
       "      <td>4:32.14</td>\n",
       "    </tr>\n",
       "  </tbody>\n",
       "</table>\n",
       "</div>"
      ],
      "text/plain": [
       "                    8K        6K        5K    10000m     5000m    3000m  \\\n",
       "Joseph Smith  24:33.50  19:10.20  15:39.00      None      None  8:52.60   \n",
       "Ben Fishbein  24:58.80  19:25.80  15:59.00  31:51.73  15:27.01  8:51.80   \n",
       "Lisa Grohn        None  20:54.00  17:31.60  35:50.22  16:44.14  9:47.70   \n",
       "\n",
       "               1 Mile    1500m  \n",
       "Joseph Smith  4:20.39  3:57.78  \n",
       "Ben Fishbein  4:40.34     None  \n",
       "Lisa Grohn    4:57.53  4:32.14  "
      ]
     },
     "execution_count": 132,
     "metadata": {},
     "output_type": "execute_result"
    }
   ],
   "source": [
    "run_dataframe['Joseph Smith':'Lisa Grohn']"
   ]
  },
  {
   "cell_type": "code",
   "execution_count": 133,
   "metadata": {},
   "outputs": [
    {
     "data": {
      "text/html": [
       "<div>\n",
       "<style scoped>\n",
       "    .dataframe tbody tr th:only-of-type {\n",
       "        vertical-align: middle;\n",
       "    }\n",
       "\n",
       "    .dataframe tbody tr th {\n",
       "        vertical-align: top;\n",
       "    }\n",
       "\n",
       "    .dataframe thead th {\n",
       "        text-align: right;\n",
       "    }\n",
       "</style>\n",
       "<table border=\"1\" class=\"dataframe\">\n",
       "  <thead>\n",
       "    <tr style=\"text-align: right;\">\n",
       "      <th></th>\n",
       "      <th>8K</th>\n",
       "      <th>6K</th>\n",
       "      <th>5K</th>\n",
       "      <th>10000m</th>\n",
       "      <th>5000m</th>\n",
       "      <th>3000m</th>\n",
       "      <th>1 Mile</th>\n",
       "      <th>1500m</th>\n",
       "    </tr>\n",
       "  </thead>\n",
       "  <tbody>\n",
       "    <tr>\n",
       "      <th>Joseph Smith</th>\n",
       "      <td>24:33.50</td>\n",
       "      <td>19:10.20</td>\n",
       "      <td>15:39.00</td>\n",
       "      <td>None</td>\n",
       "      <td>None</td>\n",
       "      <td>8:52.60</td>\n",
       "      <td>4:20.39</td>\n",
       "      <td>3:57.78</td>\n",
       "    </tr>\n",
       "    <tr>\n",
       "      <th>Ben Fishbein</th>\n",
       "      <td>24:58.80</td>\n",
       "      <td>19:25.80</td>\n",
       "      <td>15:59.00</td>\n",
       "      <td>31:51.73</td>\n",
       "      <td>15:27.01</td>\n",
       "      <td>8:51.80</td>\n",
       "      <td>4:40.34</td>\n",
       "      <td>None</td>\n",
       "    </tr>\n",
       "  </tbody>\n",
       "</table>\n",
       "</div>"
      ],
      "text/plain": [
       "                    8K        6K        5K    10000m     5000m    3000m  \\\n",
       "Joseph Smith  24:33.50  19:10.20  15:39.00      None      None  8:52.60   \n",
       "Ben Fishbein  24:58.80  19:25.80  15:59.00  31:51.73  15:27.01  8:51.80   \n",
       "\n",
       "               1 Mile    1500m  \n",
       "Joseph Smith  4:20.39  3:57.78  \n",
       "Ben Fishbein  4:40.34     None  "
      ]
     },
     "execution_count": 133,
     "metadata": {},
     "output_type": "execute_result"
    }
   ],
   "source": [
    "run_dataframe[1:3]"
   ]
  },
  {
   "cell_type": "code",
   "execution_count": 134,
   "metadata": {},
   "outputs": [
    {
     "data": {
      "text/html": [
       "<div>\n",
       "<style scoped>\n",
       "    .dataframe tbody tr th:only-of-type {\n",
       "        vertical-align: middle;\n",
       "    }\n",
       "\n",
       "    .dataframe tbody tr th {\n",
       "        vertical-align: top;\n",
       "    }\n",
       "\n",
       "    .dataframe thead th {\n",
       "        text-align: right;\n",
       "    }\n",
       "</style>\n",
       "<table border=\"1\" class=\"dataframe\">\n",
       "  <thead>\n",
       "    <tr style=\"text-align: right;\">\n",
       "      <th></th>\n",
       "      <th>8K</th>\n",
       "      <th>6K</th>\n",
       "      <th>5K</th>\n",
       "    </tr>\n",
       "  </thead>\n",
       "  <tbody>\n",
       "    <tr>\n",
       "      <th>Thomas Caulfield</th>\n",
       "      <td>24:20.80</td>\n",
       "      <td>18:58.80</td>\n",
       "      <td>15:32.00</td>\n",
       "    </tr>\n",
       "    <tr>\n",
       "      <th>Joseph Smith</th>\n",
       "      <td>24:33.50</td>\n",
       "      <td>19:10.20</td>\n",
       "      <td>15:39.00</td>\n",
       "    </tr>\n",
       "    <tr>\n",
       "      <th>Ben Fishbein</th>\n",
       "      <td>24:58.80</td>\n",
       "      <td>19:25.80</td>\n",
       "      <td>15:59.00</td>\n",
       "    </tr>\n",
       "    <tr>\n",
       "      <th>Lisa Grohn</th>\n",
       "      <td>None</td>\n",
       "      <td>20:54.00</td>\n",
       "      <td>17:31.60</td>\n",
       "    </tr>\n",
       "    <tr>\n",
       "      <th>Andy Jarombek</th>\n",
       "      <td>26:24.20</td>\n",
       "      <td>20:20.50</td>\n",
       "      <td>16:38.40</td>\n",
       "    </tr>\n",
       "  </tbody>\n",
       "</table>\n",
       "</div>"
      ],
      "text/plain": [
       "                        8K        6K        5K\n",
       "Thomas Caulfield  24:20.80  18:58.80  15:32.00\n",
       "Joseph Smith      24:33.50  19:10.20  15:39.00\n",
       "Ben Fishbein      24:58.80  19:25.80  15:59.00\n",
       "Lisa Grohn            None  20:54.00  17:31.60\n",
       "Andy Jarombek     26:24.20  20:20.50  16:38.40"
      ]
     },
     "execution_count": 134,
     "metadata": {},
     "output_type": "execute_result"
    }
   ],
   "source": [
    "run_dataframe.loc[:, ['8K', '6K', '5K']]"
   ]
  },
  {
   "cell_type": "code",
   "execution_count": 137,
   "metadata": {},
   "outputs": [
    {
     "data": {
      "text/plain": [
       "8K        None\n",
       "6K    20:54.00\n",
       "5K    17:31.60\n",
       "Name: Lisa Grohn, dtype: object"
      ]
     },
     "execution_count": 137,
     "metadata": {},
     "output_type": "execute_result"
    }
   ],
   "source": [
    "run_dataframe.iloc[3, [0, 1, 2]]"
   ]
  },
  {
   "cell_type": "code",
   "execution_count": 140,
   "metadata": {},
   "outputs": [
    {
     "data": {
      "text/html": [
       "<div>\n",
       "<style scoped>\n",
       "    .dataframe tbody tr th:only-of-type {\n",
       "        vertical-align: middle;\n",
       "    }\n",
       "\n",
       "    .dataframe tbody tr th {\n",
       "        vertical-align: top;\n",
       "    }\n",
       "\n",
       "    .dataframe thead th {\n",
       "        text-align: right;\n",
       "    }\n",
       "</style>\n",
       "<table border=\"1\" class=\"dataframe\">\n",
       "  <thead>\n",
       "    <tr style=\"text-align: right;\">\n",
       "      <th></th>\n",
       "      <th>10000m</th>\n",
       "      <th>5000m</th>\n",
       "      <th>3000m</th>\n",
       "      <th>1 Mile</th>\n",
       "      <th>1500m</th>\n",
       "    </tr>\n",
       "  </thead>\n",
       "  <tbody>\n",
       "    <tr>\n",
       "      <th>Thomas Caulfield</th>\n",
       "      <td>None</td>\n",
       "      <td>14:23.21</td>\n",
       "      <td>8:32.83</td>\n",
       "      <td>4:20.59</td>\n",
       "      <td>3:54.67</td>\n",
       "    </tr>\n",
       "    <tr>\n",
       "      <th>Joseph Smith</th>\n",
       "      <td>None</td>\n",
       "      <td>None</td>\n",
       "      <td>8:52.60</td>\n",
       "      <td>4:20.39</td>\n",
       "      <td>3:57.78</td>\n",
       "    </tr>\n",
       "    <tr>\n",
       "      <th>Ben Fishbein</th>\n",
       "      <td>31:51.73</td>\n",
       "      <td>15:27.01</td>\n",
       "      <td>8:51.80</td>\n",
       "      <td>4:40.34</td>\n",
       "      <td>None</td>\n",
       "    </tr>\n",
       "    <tr>\n",
       "      <th>Andy Jarombek</th>\n",
       "      <td>None</td>\n",
       "      <td>15:27.64</td>\n",
       "      <td>9:03.60</td>\n",
       "      <td>4:40.76</td>\n",
       "      <td>4:08.17</td>\n",
       "    </tr>\n",
       "  </tbody>\n",
       "</table>\n",
       "</div>"
      ],
      "text/plain": [
       "                    10000m     5000m    3000m   1 Mile    1500m\n",
       "Thomas Caulfield      None  14:23.21  8:32.83  4:20.59  3:54.67\n",
       "Joseph Smith          None      None  8:52.60  4:20.39  3:57.78\n",
       "Ben Fishbein      31:51.73  15:27.01  8:51.80  4:40.34     None\n",
       "Andy Jarombek         None  15:27.64  9:03.60  4:40.76  4:08.17"
      ]
     },
     "execution_count": 140,
     "metadata": {},
     "output_type": "execute_result"
    }
   ],
   "source": [
    "run_dataframe.iloc[np.array([0, 1, 2, 4]), np.arange(3, 8)]"
   ]
  },
  {
   "cell_type": "code",
   "execution_count": 141,
   "metadata": {},
   "outputs": [
    {
     "data": {
      "text/plain": [
       "'14:23.21'"
      ]
     },
     "execution_count": 141,
     "metadata": {},
     "output_type": "execute_result"
    }
   ],
   "source": [
    "run_dataframe.at['Thomas Caulfield', '5000m']"
   ]
  },
  {
   "cell_type": "code",
   "execution_count": 142,
   "metadata": {},
   "outputs": [
    {
     "data": {
      "text/plain": [
       "'14:23.21'"
      ]
     },
     "execution_count": 142,
     "metadata": {},
     "output_type": "execute_result"
    }
   ],
   "source": [
    "run_dataframe.iat[0, 4]"
   ]
  },
  {
   "cell_type": "code",
   "execution_count": 144,
   "metadata": {},
   "outputs": [
    {
     "data": {
      "text/html": [
       "<div>\n",
       "<style scoped>\n",
       "    .dataframe tbody tr th:only-of-type {\n",
       "        vertical-align: middle;\n",
       "    }\n",
       "\n",
       "    .dataframe tbody tr th {\n",
       "        vertical-align: top;\n",
       "    }\n",
       "\n",
       "    .dataframe thead th {\n",
       "        text-align: right;\n",
       "    }\n",
       "</style>\n",
       "<table border=\"1\" class=\"dataframe\">\n",
       "  <thead>\n",
       "    <tr style=\"text-align: right;\">\n",
       "      <th></th>\n",
       "      <th>8K</th>\n",
       "      <th>6K</th>\n",
       "      <th>5K</th>\n",
       "    </tr>\n",
       "  </thead>\n",
       "  <tbody>\n",
       "    <tr>\n",
       "      <th>Thomas Caulfield</th>\n",
       "      <td>1460.8</td>\n",
       "      <td>1138.8</td>\n",
       "      <td>932.0</td>\n",
       "    </tr>\n",
       "    <tr>\n",
       "      <th>Joseph Smith</th>\n",
       "      <td>1473.5</td>\n",
       "      <td>1150.2</td>\n",
       "      <td>939.0</td>\n",
       "    </tr>\n",
       "    <tr>\n",
       "      <th>Ben Fishbein</th>\n",
       "      <td>1498.8</td>\n",
       "      <td>1165.8</td>\n",
       "      <td>959.0</td>\n",
       "    </tr>\n",
       "    <tr>\n",
       "      <th>Lisa Grohn</th>\n",
       "      <td>NaN</td>\n",
       "      <td>1254.0</td>\n",
       "      <td>1051.6</td>\n",
       "    </tr>\n",
       "    <tr>\n",
       "      <th>Andy Jarombek</th>\n",
       "      <td>1584.2</td>\n",
       "      <td>1220.5</td>\n",
       "      <td>998.4</td>\n",
       "    </tr>\n",
       "  </tbody>\n",
       "</table>\n",
       "</div>"
      ],
      "text/plain": [
       "                      8K      6K      5K\n",
       "Thomas Caulfield  1460.8  1138.8   932.0\n",
       "Joseph Smith      1473.5  1150.2   939.0\n",
       "Ben Fishbein      1498.8  1165.8   959.0\n",
       "Lisa Grohn           NaN  1254.0  1051.6\n",
       "Andy Jarombek     1584.2  1220.5   998.4"
      ]
     },
     "execution_count": 144,
     "metadata": {},
     "output_type": "execute_result"
    }
   ],
   "source": [
    "data_xctf = {\n",
    "    '8K': [1460.80, 1473.50, 1498.80, np.nan, 1584.20],\n",
    "    '6K': [1138.80, 1150.20, 1165.80, 1254.00, 1220.50],\n",
    "    '5K': [932.00, 939.00, 959.00, 1051.60, 998.40]\n",
    "}\n",
    "run_sec_dataframe = pd.DataFrame(data_xctf, index=['Thomas Caulfield', 'Joseph Smith', 'Ben Fishbein', 'Lisa Grohn', 'Andy Jarombek'])\n",
    "run_sec_dataframe"
   ]
  },
  {
   "cell_type": "code",
   "execution_count": 157,
   "metadata": {},
   "outputs": [
    {
     "data": {
      "text/plain": [
       "8K    2934.3\n",
       "6K    2289.0\n",
       "5K    1871.0\n",
       "dtype: float64"
      ]
     },
     "execution_count": 157,
     "metadata": {},
     "output_type": "execute_result"
    }
   ],
   "source": [
    "# Tom and Joe's combined seconds for races.\n",
    "run_sec_dataframe.iloc[0] + run_sec_dataframe.iloc[1]"
   ]
  },
  {
   "cell_type": "code",
   "execution_count": 152,
   "metadata": {},
   "outputs": [
    {
     "data": {
      "text/html": [
       "<div>\n",
       "<style scoped>\n",
       "    .dataframe tbody tr th:only-of-type {\n",
       "        vertical-align: middle;\n",
       "    }\n",
       "\n",
       "    .dataframe tbody tr th {\n",
       "        vertical-align: top;\n",
       "    }\n",
       "\n",
       "    .dataframe thead th {\n",
       "        text-align: right;\n",
       "    }\n",
       "</style>\n",
       "<table border=\"1\" class=\"dataframe\">\n",
       "  <thead>\n",
       "    <tr style=\"text-align: right;\">\n",
       "      <th></th>\n",
       "      <th>6K</th>\n",
       "    </tr>\n",
       "  </thead>\n",
       "  <tbody>\n",
       "    <tr>\n",
       "      <th>Thomas Caulfield</th>\n",
       "      <td>75.920000</td>\n",
       "    </tr>\n",
       "    <tr>\n",
       "      <th>Joseph Smith</th>\n",
       "      <td>76.680000</td>\n",
       "    </tr>\n",
       "    <tr>\n",
       "      <th>Ben Fishbein</th>\n",
       "      <td>77.720000</td>\n",
       "    </tr>\n",
       "    <tr>\n",
       "      <th>Lisa Grohn</th>\n",
       "      <td>83.600000</td>\n",
       "    </tr>\n",
       "    <tr>\n",
       "      <th>Andy Jarombek</th>\n",
       "      <td>81.366667</td>\n",
       "    </tr>\n",
       "  </tbody>\n",
       "</table>\n",
       "</div>"
      ],
      "text/plain": [
       "                         6K\n",
       "Thomas Caulfield  75.920000\n",
       "Joseph Smith      76.680000\n",
       "Ben Fishbein      77.720000\n",
       "Lisa Grohn        83.600000\n",
       "Andy Jarombek     81.366667"
      ]
     },
     "execution_count": 152,
     "metadata": {},
     "output_type": "execute_result"
    }
   ],
   "source": [
    "# Everyones 400m pace for the 6K\n",
    "run_sec_dataframe.loc[:, ['6K']] / 15"
   ]
  },
  {
   "cell_type": "code",
   "execution_count": 155,
   "metadata": {},
   "outputs": [
    {
     "data": {
      "text/html": [
       "<div>\n",
       "<style scoped>\n",
       "    .dataframe tbody tr th:only-of-type {\n",
       "        vertical-align: middle;\n",
       "    }\n",
       "\n",
       "    .dataframe tbody tr th {\n",
       "        vertical-align: top;\n",
       "    }\n",
       "\n",
       "    .dataframe thead th {\n",
       "        text-align: right;\n",
       "    }\n",
       "</style>\n",
       "<table border=\"1\" class=\"dataframe\">\n",
       "  <thead>\n",
       "    <tr style=\"text-align: right;\">\n",
       "      <th></th>\n",
       "      <th>8K</th>\n",
       "      <th>6K</th>\n",
       "      <th>5K</th>\n",
       "    </tr>\n",
       "  </thead>\n",
       "  <tbody>\n",
       "    <tr>\n",
       "      <th>Thomas Caulfield</th>\n",
       "      <td>73.040</td>\n",
       "      <td>75.920000</td>\n",
       "      <td>74.560</td>\n",
       "    </tr>\n",
       "    <tr>\n",
       "      <th>Joseph Smith</th>\n",
       "      <td>73.675</td>\n",
       "      <td>76.680000</td>\n",
       "      <td>75.120</td>\n",
       "    </tr>\n",
       "    <tr>\n",
       "      <th>Ben Fishbein</th>\n",
       "      <td>74.940</td>\n",
       "      <td>77.720000</td>\n",
       "      <td>76.720</td>\n",
       "    </tr>\n",
       "    <tr>\n",
       "      <th>Lisa Grohn</th>\n",
       "      <td>NaN</td>\n",
       "      <td>83.600000</td>\n",
       "      <td>84.128</td>\n",
       "    </tr>\n",
       "    <tr>\n",
       "      <th>Andy Jarombek</th>\n",
       "      <td>79.210</td>\n",
       "      <td>81.366667</td>\n",
       "      <td>79.872</td>\n",
       "    </tr>\n",
       "  </tbody>\n",
       "</table>\n",
       "</div>"
      ],
      "text/plain": [
       "                      8K         6K      5K\n",
       "Thomas Caulfield  73.040  75.920000  74.560\n",
       "Joseph Smith      73.675  76.680000  75.120\n",
       "Ben Fishbein      74.940  77.720000  76.720\n",
       "Lisa Grohn           NaN  83.600000  84.128\n",
       "Andy Jarombek     79.210  81.366667  79.872"
      ]
     },
     "execution_count": 155,
     "metadata": {},
     "output_type": "execute_result"
    }
   ],
   "source": [
    "# Pace per 400m for each race.\n",
    "run_sec_dataframe / [20, 15, 12.5]"
   ]
  },
  {
   "cell_type": "code",
   "execution_count": 159,
   "metadata": {},
   "outputs": [
    {
     "data": {
      "text/html": [
       "<div>\n",
       "<style scoped>\n",
       "    .dataframe tbody tr th:only-of-type {\n",
       "        vertical-align: middle;\n",
       "    }\n",
       "\n",
       "    .dataframe tbody tr th {\n",
       "        vertical-align: top;\n",
       "    }\n",
       "\n",
       "    .dataframe thead th {\n",
       "        text-align: right;\n",
       "    }\n",
       "</style>\n",
       "<table border=\"1\" class=\"dataframe\">\n",
       "  <thead>\n",
       "    <tr style=\"text-align: right;\">\n",
       "      <th></th>\n",
       "      <th>Thomas Caulfield</th>\n",
       "      <th>Joseph Smith</th>\n",
       "      <th>Ben Fishbein</th>\n",
       "      <th>Lisa Grohn</th>\n",
       "      <th>Andy Jarombek</th>\n",
       "    </tr>\n",
       "  </thead>\n",
       "  <tbody>\n",
       "    <tr>\n",
       "      <th>8K</th>\n",
       "      <td>1460.8</td>\n",
       "      <td>1473.5</td>\n",
       "      <td>1498.8</td>\n",
       "      <td>NaN</td>\n",
       "      <td>1584.2</td>\n",
       "    </tr>\n",
       "    <tr>\n",
       "      <th>6K</th>\n",
       "      <td>1138.8</td>\n",
       "      <td>1150.2</td>\n",
       "      <td>1165.8</td>\n",
       "      <td>1254.0</td>\n",
       "      <td>1220.5</td>\n",
       "    </tr>\n",
       "    <tr>\n",
       "      <th>5K</th>\n",
       "      <td>932.0</td>\n",
       "      <td>939.0</td>\n",
       "      <td>959.0</td>\n",
       "      <td>1051.6</td>\n",
       "      <td>998.4</td>\n",
       "    </tr>\n",
       "  </tbody>\n",
       "</table>\n",
       "</div>"
      ],
      "text/plain": [
       "    Thomas Caulfield  Joseph Smith  Ben Fishbein  Lisa Grohn  Andy Jarombek\n",
       "8K            1460.8        1473.5        1498.8         NaN         1584.2\n",
       "6K            1138.8        1150.2        1165.8      1254.0         1220.5\n",
       "5K             932.0         939.0         959.0      1051.6          998.4"
      ]
     },
     "execution_count": 159,
     "metadata": {},
     "output_type": "execute_result"
    }
   ],
   "source": [
    "run_seconds_dataframe = run_sec_dataframe.T\n",
    "run_seconds_dataframe"
   ]
  },
  {
   "cell_type": "code",
   "execution_count": 160,
   "metadata": {},
   "outputs": [
    {
     "data": {
      "text/plain": [
       "Thomas Caulfield    37.280\n",
       "Joseph Smith        37.560\n",
       "Ben Fishbein        38.360\n",
       "Lisa Grohn          42.064\n",
       "Andy Jarombek       39.936\n",
       "Name: 5K, dtype: float64"
      ]
     },
     "execution_count": 160,
     "metadata": {},
     "output_type": "execute_result"
    }
   ],
   "source": [
    "run_seconds_dataframe.loc['5K'] / 25"
   ]
  },
  {
   "cell_type": "code",
   "execution_count": 161,
   "metadata": {},
   "outputs": [
    {
     "data": {
      "text/plain": [
       "Thomas Caulfield    37.280\n",
       "Joseph Smith        37.560\n",
       "Ben Fishbein        38.360\n",
       "Lisa Grohn          42.064\n",
       "Andy Jarombek       39.936\n",
       "Name: 5K, dtype: float64"
      ]
     },
     "execution_count": 161,
     "metadata": {},
     "output_type": "execute_result"
    }
   ],
   "source": [
    "# Series and DataFrame types have methods for each arithmetic operation.\n",
    "run_seconds_dataframe.loc['5K'].div(25)"
   ]
  },
  {
   "cell_type": "code",
   "execution_count": 165,
   "metadata": {},
   "outputs": [
    {
     "data": {
      "text/plain": [
       "8K    1504.325\n",
       "6K    1185.860\n",
       "5K     976.000\n",
       "dtype: float64"
      ]
     },
     "execution_count": 165,
     "metadata": {},
     "output_type": "execute_result"
    }
   ],
   "source": [
    "mean_func = lambda x: x.mean()\n",
    "run_sec_dataframe.apply(mean_func)"
   ]
  },
  {
   "cell_type": "code",
   "execution_count": 167,
   "metadata": {},
   "outputs": [
    {
     "data": {
      "text/plain": [
       "8K    1504.325\n",
       "6K    1185.860\n",
       "5K     976.000\n",
       "dtype: float64"
      ]
     },
     "execution_count": 167,
     "metadata": {},
     "output_type": "execute_result"
    }
   ],
   "source": [
    "run_seconds_dataframe.apply(mean_func, axis='columns')"
   ]
  },
  {
   "cell_type": "code",
   "execution_count": 168,
   "metadata": {},
   "outputs": [
    {
     "data": {
      "text/html": [
       "<div>\n",
       "<style scoped>\n",
       "    .dataframe tbody tr th:only-of-type {\n",
       "        vertical-align: middle;\n",
       "    }\n",
       "\n",
       "    .dataframe tbody tr th {\n",
       "        vertical-align: top;\n",
       "    }\n",
       "\n",
       "    .dataframe thead th {\n",
       "        text-align: right;\n",
       "    }\n",
       "</style>\n",
       "<table border=\"1\" class=\"dataframe\">\n",
       "  <thead>\n",
       "    <tr style=\"text-align: right;\">\n",
       "      <th></th>\n",
       "      <th>Thomas Caulfield</th>\n",
       "      <th>Joseph Smith</th>\n",
       "      <th>Ben Fishbein</th>\n",
       "      <th>Lisa Grohn</th>\n",
       "      <th>Andy Jarombek</th>\n",
       "    </tr>\n",
       "  </thead>\n",
       "  <tbody>\n",
       "    <tr>\n",
       "      <th>5K</th>\n",
       "      <td>932.0</td>\n",
       "      <td>939.0</td>\n",
       "      <td>959.0</td>\n",
       "      <td>1051.6</td>\n",
       "      <td>998.4</td>\n",
       "    </tr>\n",
       "    <tr>\n",
       "      <th>6K</th>\n",
       "      <td>1138.8</td>\n",
       "      <td>1150.2</td>\n",
       "      <td>1165.8</td>\n",
       "      <td>1254.0</td>\n",
       "      <td>1220.5</td>\n",
       "    </tr>\n",
       "    <tr>\n",
       "      <th>8K</th>\n",
       "      <td>1460.8</td>\n",
       "      <td>1473.5</td>\n",
       "      <td>1498.8</td>\n",
       "      <td>NaN</td>\n",
       "      <td>1584.2</td>\n",
       "    </tr>\n",
       "  </tbody>\n",
       "</table>\n",
       "</div>"
      ],
      "text/plain": [
       "    Thomas Caulfield  Joseph Smith  Ben Fishbein  Lisa Grohn  Andy Jarombek\n",
       "5K             932.0         939.0         959.0      1051.6          998.4\n",
       "6K            1138.8        1150.2        1165.8      1254.0         1220.5\n",
       "8K            1460.8        1473.5        1498.8         NaN         1584.2"
      ]
     },
     "execution_count": 168,
     "metadata": {},
     "output_type": "execute_result"
    }
   ],
   "source": [
    "run_seconds_dataframe.sort_index()"
   ]
  },
  {
   "cell_type": "code",
   "execution_count": 169,
   "metadata": {},
   "outputs": [
    {
     "data": {
      "text/html": [
       "<div>\n",
       "<style scoped>\n",
       "    .dataframe tbody tr th:only-of-type {\n",
       "        vertical-align: middle;\n",
       "    }\n",
       "\n",
       "    .dataframe tbody tr th {\n",
       "        vertical-align: top;\n",
       "    }\n",
       "\n",
       "    .dataframe thead th {\n",
       "        text-align: right;\n",
       "    }\n",
       "</style>\n",
       "<table border=\"1\" class=\"dataframe\">\n",
       "  <thead>\n",
       "    <tr style=\"text-align: right;\">\n",
       "      <th></th>\n",
       "      <th>Andy Jarombek</th>\n",
       "      <th>Ben Fishbein</th>\n",
       "      <th>Joseph Smith</th>\n",
       "      <th>Lisa Grohn</th>\n",
       "      <th>Thomas Caulfield</th>\n",
       "    </tr>\n",
       "  </thead>\n",
       "  <tbody>\n",
       "    <tr>\n",
       "      <th>8K</th>\n",
       "      <td>1584.2</td>\n",
       "      <td>1498.8</td>\n",
       "      <td>1473.5</td>\n",
       "      <td>NaN</td>\n",
       "      <td>1460.8</td>\n",
       "    </tr>\n",
       "    <tr>\n",
       "      <th>6K</th>\n",
       "      <td>1220.5</td>\n",
       "      <td>1165.8</td>\n",
       "      <td>1150.2</td>\n",
       "      <td>1254.0</td>\n",
       "      <td>1138.8</td>\n",
       "    </tr>\n",
       "    <tr>\n",
       "      <th>5K</th>\n",
       "      <td>998.4</td>\n",
       "      <td>959.0</td>\n",
       "      <td>939.0</td>\n",
       "      <td>1051.6</td>\n",
       "      <td>932.0</td>\n",
       "    </tr>\n",
       "  </tbody>\n",
       "</table>\n",
       "</div>"
      ],
      "text/plain": [
       "    Andy Jarombek  Ben Fishbein  Joseph Smith  Lisa Grohn  Thomas Caulfield\n",
       "8K         1584.2        1498.8        1473.5         NaN            1460.8\n",
       "6K         1220.5        1165.8        1150.2      1254.0            1138.8\n",
       "5K          998.4         959.0         939.0      1051.6             932.0"
      ]
     },
     "execution_count": 169,
     "metadata": {},
     "output_type": "execute_result"
    }
   ],
   "source": [
    "run_seconds_dataframe.sort_index(axis=1)"
   ]
  },
  {
   "cell_type": "code",
   "execution_count": 173,
   "metadata": {},
   "outputs": [
    {
     "data": {
      "text/html": [
       "<div>\n",
       "<style scoped>\n",
       "    .dataframe tbody tr th:only-of-type {\n",
       "        vertical-align: middle;\n",
       "    }\n",
       "\n",
       "    .dataframe tbody tr th {\n",
       "        vertical-align: top;\n",
       "    }\n",
       "\n",
       "    .dataframe thead th {\n",
       "        text-align: right;\n",
       "    }\n",
       "</style>\n",
       "<table border=\"1\" class=\"dataframe\">\n",
       "  <thead>\n",
       "    <tr style=\"text-align: right;\">\n",
       "      <th></th>\n",
       "      <th>8K</th>\n",
       "      <th>6K</th>\n",
       "      <th>5K</th>\n",
       "    </tr>\n",
       "  </thead>\n",
       "  <tbody>\n",
       "    <tr>\n",
       "      <th>Thomas Caulfield</th>\n",
       "      <td>1460.8</td>\n",
       "      <td>1138.8</td>\n",
       "      <td>932.0</td>\n",
       "    </tr>\n",
       "    <tr>\n",
       "      <th>Joseph Smith</th>\n",
       "      <td>1473.5</td>\n",
       "      <td>1150.2</td>\n",
       "      <td>939.0</td>\n",
       "    </tr>\n",
       "    <tr>\n",
       "      <th>Ben Fishbein</th>\n",
       "      <td>1498.8</td>\n",
       "      <td>1165.8</td>\n",
       "      <td>959.0</td>\n",
       "    </tr>\n",
       "    <tr>\n",
       "      <th>Andy Jarombek</th>\n",
       "      <td>1584.2</td>\n",
       "      <td>1220.5</td>\n",
       "      <td>998.4</td>\n",
       "    </tr>\n",
       "    <tr>\n",
       "      <th>Lisa Grohn</th>\n",
       "      <td>NaN</td>\n",
       "      <td>1254.0</td>\n",
       "      <td>1051.6</td>\n",
       "    </tr>\n",
       "  </tbody>\n",
       "</table>\n",
       "</div>"
      ],
      "text/plain": [
       "                      8K      6K      5K\n",
       "Thomas Caulfield  1460.8  1138.8   932.0\n",
       "Joseph Smith      1473.5  1150.2   939.0\n",
       "Ben Fishbein      1498.8  1165.8   959.0\n",
       "Andy Jarombek     1584.2  1220.5   998.4\n",
       "Lisa Grohn           NaN  1254.0  1051.6"
      ]
     },
     "execution_count": 173,
     "metadata": {},
     "output_type": "execute_result"
    }
   ],
   "source": [
    "run_seconds_dataframe.T.sort_values(by='5K')"
   ]
  },
  {
   "cell_type": "code",
   "execution_count": 174,
   "metadata": {},
   "outputs": [
    {
     "data": {
      "text/html": [
       "<div>\n",
       "<style scoped>\n",
       "    .dataframe tbody tr th:only-of-type {\n",
       "        vertical-align: middle;\n",
       "    }\n",
       "\n",
       "    .dataframe tbody tr th {\n",
       "        vertical-align: top;\n",
       "    }\n",
       "\n",
       "    .dataframe thead th {\n",
       "        text-align: right;\n",
       "    }\n",
       "</style>\n",
       "<table border=\"1\" class=\"dataframe\">\n",
       "  <thead>\n",
       "    <tr style=\"text-align: right;\">\n",
       "      <th></th>\n",
       "      <th>8K</th>\n",
       "      <th>6K</th>\n",
       "      <th>5K</th>\n",
       "    </tr>\n",
       "  </thead>\n",
       "  <tbody>\n",
       "    <tr>\n",
       "      <th>Thomas Caulfield</th>\n",
       "      <td>1.0</td>\n",
       "      <td>1.0</td>\n",
       "      <td>1.0</td>\n",
       "    </tr>\n",
       "    <tr>\n",
       "      <th>Joseph Smith</th>\n",
       "      <td>2.0</td>\n",
       "      <td>2.0</td>\n",
       "      <td>2.0</td>\n",
       "    </tr>\n",
       "    <tr>\n",
       "      <th>Ben Fishbein</th>\n",
       "      <td>3.0</td>\n",
       "      <td>3.0</td>\n",
       "      <td>3.0</td>\n",
       "    </tr>\n",
       "    <tr>\n",
       "      <th>Lisa Grohn</th>\n",
       "      <td>NaN</td>\n",
       "      <td>5.0</td>\n",
       "      <td>5.0</td>\n",
       "    </tr>\n",
       "    <tr>\n",
       "      <th>Andy Jarombek</th>\n",
       "      <td>4.0</td>\n",
       "      <td>4.0</td>\n",
       "      <td>4.0</td>\n",
       "    </tr>\n",
       "  </tbody>\n",
       "</table>\n",
       "</div>"
      ],
      "text/plain": [
       "                   8K   6K   5K\n",
       "Thomas Caulfield  1.0  1.0  1.0\n",
       "Joseph Smith      2.0  2.0  2.0\n",
       "Ben Fishbein      3.0  3.0  3.0\n",
       "Lisa Grohn        NaN  5.0  5.0\n",
       "Andy Jarombek     4.0  4.0  4.0"
      ]
     },
     "execution_count": 174,
     "metadata": {},
     "output_type": "execute_result"
    }
   ],
   "source": [
    "run_seconds_dataframe.T.rank()"
   ]
  },
  {
   "cell_type": "code",
   "execution_count": 175,
   "metadata": {},
   "outputs": [
    {
     "data": {
      "text/html": [
       "<div>\n",
       "<style scoped>\n",
       "    .dataframe tbody tr th:only-of-type {\n",
       "        vertical-align: middle;\n",
       "    }\n",
       "\n",
       "    .dataframe tbody tr th {\n",
       "        vertical-align: top;\n",
       "    }\n",
       "\n",
       "    .dataframe thead th {\n",
       "        text-align: right;\n",
       "    }\n",
       "</style>\n",
       "<table border=\"1\" class=\"dataframe\">\n",
       "  <thead>\n",
       "    <tr style=\"text-align: right;\">\n",
       "      <th></th>\n",
       "      <th>Thomas Caulfield</th>\n",
       "      <th>Joseph Smith</th>\n",
       "      <th>Ben Fishbein</th>\n",
       "      <th>Lisa Grohn</th>\n",
       "      <th>Andy Jarombek</th>\n",
       "    </tr>\n",
       "  </thead>\n",
       "  <tbody>\n",
       "    <tr>\n",
       "      <th>count</th>\n",
       "      <td>3.00000</td>\n",
       "      <td>3.000000</td>\n",
       "      <td>3.000000</td>\n",
       "      <td>2.000000</td>\n",
       "      <td>3.00000</td>\n",
       "    </tr>\n",
       "    <tr>\n",
       "      <th>mean</th>\n",
       "      <td>1177.20000</td>\n",
       "      <td>1187.566667</td>\n",
       "      <td>1207.866667</td>\n",
       "      <td>1152.800000</td>\n",
       "      <td>1267.70000</td>\n",
       "    </tr>\n",
       "    <tr>\n",
       "      <th>std</th>\n",
       "      <td>266.48317</td>\n",
       "      <td>269.202086</td>\n",
       "      <td>272.347597</td>\n",
       "      <td>143.118413</td>\n",
       "      <td>295.73855</td>\n",
       "    </tr>\n",
       "    <tr>\n",
       "      <th>min</th>\n",
       "      <td>932.00000</td>\n",
       "      <td>939.000000</td>\n",
       "      <td>959.000000</td>\n",
       "      <td>1051.600000</td>\n",
       "      <td>998.40000</td>\n",
       "    </tr>\n",
       "    <tr>\n",
       "      <th>25%</th>\n",
       "      <td>1035.40000</td>\n",
       "      <td>1044.600000</td>\n",
       "      <td>1062.400000</td>\n",
       "      <td>1102.200000</td>\n",
       "      <td>1109.45000</td>\n",
       "    </tr>\n",
       "    <tr>\n",
       "      <th>50%</th>\n",
       "      <td>1138.80000</td>\n",
       "      <td>1150.200000</td>\n",
       "      <td>1165.800000</td>\n",
       "      <td>1152.800000</td>\n",
       "      <td>1220.50000</td>\n",
       "    </tr>\n",
       "    <tr>\n",
       "      <th>75%</th>\n",
       "      <td>1299.80000</td>\n",
       "      <td>1311.850000</td>\n",
       "      <td>1332.300000</td>\n",
       "      <td>1203.400000</td>\n",
       "      <td>1402.35000</td>\n",
       "    </tr>\n",
       "    <tr>\n",
       "      <th>max</th>\n",
       "      <td>1460.80000</td>\n",
       "      <td>1473.500000</td>\n",
       "      <td>1498.800000</td>\n",
       "      <td>1254.000000</td>\n",
       "      <td>1584.20000</td>\n",
       "    </tr>\n",
       "  </tbody>\n",
       "</table>\n",
       "</div>"
      ],
      "text/plain": [
       "       Thomas Caulfield  Joseph Smith  Ben Fishbein   Lisa Grohn  \\\n",
       "count           3.00000      3.000000      3.000000     2.000000   \n",
       "mean         1177.20000   1187.566667   1207.866667  1152.800000   \n",
       "std           266.48317    269.202086    272.347597   143.118413   \n",
       "min           932.00000    939.000000    959.000000  1051.600000   \n",
       "25%          1035.40000   1044.600000   1062.400000  1102.200000   \n",
       "50%          1138.80000   1150.200000   1165.800000  1152.800000   \n",
       "75%          1299.80000   1311.850000   1332.300000  1203.400000   \n",
       "max          1460.80000   1473.500000   1498.800000  1254.000000   \n",
       "\n",
       "       Andy Jarombek  \n",
       "count        3.00000  \n",
       "mean      1267.70000  \n",
       "std        295.73855  \n",
       "min        998.40000  \n",
       "25%       1109.45000  \n",
       "50%       1220.50000  \n",
       "75%       1402.35000  \n",
       "max       1584.20000  "
      ]
     },
     "execution_count": 175,
     "metadata": {},
     "output_type": "execute_result"
    }
   ],
   "source": [
    "# Get an overview of different statistics about the DataFrame\n",
    "run_seconds_dataframe.describe()"
   ]
  },
  {
   "cell_type": "code",
   "execution_count": 176,
   "metadata": {},
   "outputs": [
    {
     "data": {
      "text/plain": [
       "Thomas Caulfield    189.066667\n",
       "Joseph Smith        190.622222\n",
       "Ben Fishbein        193.955556\n",
       "Lisa Grohn          101.200000\n",
       "Andy Jarombek       211.000000\n",
       "dtype: float64"
      ]
     },
     "execution_count": 176,
     "metadata": {},
     "output_type": "execute_result"
    }
   ],
   "source": [
    "# Mean absolute deviation from mean value - the mean of all distances from the mean value.\n",
    "run_seconds_dataframe.mad()"
   ]
  }
 ],
 "metadata": {
  "kernelspec": {
   "display_name": "Python 3",
   "language": "python",
   "name": "python3"
  },
  "language_info": {
   "codemirror_mode": {
    "name": "ipython",
    "version": 3
   },
   "file_extension": ".py",
   "mimetype": "text/x-python",
   "name": "python",
   "nbconvert_exporter": "python",
   "pygments_lexer": "ipython3",
   "version": "3.8.0"
  }
 },
 "nbformat": 4,
 "nbformat_minor": 4
}
