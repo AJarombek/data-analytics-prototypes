{
 "cells": [
  {
   "cell_type": "code",
   "execution_count": 25,
   "metadata": {},
   "outputs": [],
   "source": [
    "import pandas as pd\n",
    "import numpy as np\n",
    "from datetime import datetime"
   ]
  },
  {
   "cell_type": "code",
   "execution_count": 26,
   "metadata": {},
   "outputs": [
    {
     "data": {
      "text/plain": [
       "2019-12-20    4:54\n",
       "2020-02-13    4:47\n",
       "2020-02-27    4:52\n",
       "2020-03-05    4:48\n",
       "dtype: object"
      ]
     },
     "execution_count": 26,
     "metadata": {},
     "output_type": "execute_result"
    }
   ],
   "source": [
    "mile_races = pd.Series(\n",
    "    np.array(['4:54', '4:47', '4:52', '4:48']),\n",
    "    [datetime(2019, 12, 20), datetime(2020, 2, 13), datetime(2020, 2, 27), datetime(2020, 3, 5)]\n",
    ")\n",
    "mile_races"
   ]
  },
  {
   "cell_type": "code",
   "execution_count": 27,
   "metadata": {},
   "outputs": [
    {
     "data": {
      "text/plain": [
       "dtype('<M8[ns]')"
      ]
     },
     "execution_count": 27,
     "metadata": {},
     "output_type": "execute_result"
    }
   ],
   "source": [
    "mile_races.index.dtype"
   ]
  },
  {
   "cell_type": "code",
   "execution_count": 28,
   "metadata": {},
   "outputs": [
    {
     "data": {
      "text/plain": [
       "Timestamp('2019-12-20 00:00:00')"
      ]
     },
     "execution_count": 28,
     "metadata": {},
     "output_type": "execute_result"
    }
   ],
   "source": [
    "mile_races.index[0]"
   ]
  },
  {
   "cell_type": "code",
   "execution_count": 29,
   "metadata": {},
   "outputs": [
    {
     "data": {
      "text/plain": [
       "'4:52'"
      ]
     },
     "execution_count": 29,
     "metadata": {},
     "output_type": "execute_result"
    }
   ],
   "source": [
    "mile_races['2/27/2020']"
   ]
  },
  {
   "cell_type": "code",
   "execution_count": 30,
   "metadata": {},
   "outputs": [
    {
     "data": {
      "text/plain": [
       "'4:52'"
      ]
     },
     "execution_count": 30,
     "metadata": {},
     "output_type": "execute_result"
    }
   ],
   "source": [
    "mile_races['20200227']"
   ]
  },
  {
   "cell_type": "code",
   "execution_count": 31,
   "metadata": {},
   "outputs": [
    {
     "data": {
      "text/plain": [
       "2020-02-13    4:47\n",
       "2020-02-27    4:52\n",
       "2020-03-05    4:48\n",
       "dtype: object"
      ]
     },
     "execution_count": 31,
     "metadata": {},
     "output_type": "execute_result"
    }
   ],
   "source": [
    "mile_races['2020']"
   ]
  },
  {
   "cell_type": "code",
   "execution_count": 32,
   "metadata": {},
   "outputs": [
    {
     "data": {
      "text/plain": [
       "2020-02-13    4:47\n",
       "2020-02-27    4:52\n",
       "dtype: object"
      ]
     },
     "execution_count": 32,
     "metadata": {},
     "output_type": "execute_result"
    }
   ],
   "source": [
    "mile_races['2020-02']"
   ]
  },
  {
   "cell_type": "code",
   "execution_count": 33,
   "metadata": {},
   "outputs": [
    {
     "data": {
      "text/plain": [
       "2019-12-20    4:54\n",
       "2020-02-13    4:47\n",
       "2020-02-27    4:52\n",
       "dtype: object"
      ]
     },
     "execution_count": 33,
     "metadata": {},
     "output_type": "execute_result"
    }
   ],
   "source": [
    "mile_races['12/1/2019':'2/29/2020']"
   ]
  },
  {
   "cell_type": "code",
   "execution_count": 34,
   "metadata": {},
   "outputs": [
    {
     "data": {
      "text/plain": [
       "DatetimeIndex(['2020-03-06', '2020-03-07', '2020-03-08'], dtype='datetime64[ns]', freq='D')"
      ]
     },
     "execution_count": 34,
     "metadata": {},
     "output_type": "execute_result"
    }
   ],
   "source": [
    "# Current ski trip to Killington with Joe & Ben.\n",
    "pd.date_range('2020-03-06', '2020-03-08')"
   ]
  },
  {
   "cell_type": "code",
   "execution_count": 35,
   "metadata": {},
   "outputs": [
    {
     "data": {
      "text/plain": [
       "DatetimeIndex(['2020-03-06', '2020-03-07', '2020-03-08'], dtype='datetime64[ns]', freq='D')"
      ]
     },
     "execution_count": 35,
     "metadata": {},
     "output_type": "execute_result"
    }
   ],
   "source": [
    "pd.date_range(start='2020-03-06', periods=3)"
   ]
  },
  {
   "cell_type": "code",
   "execution_count": 36,
   "metadata": {},
   "outputs": [
    {
     "data": {
      "text/plain": [
       "DatetimeIndex(['2020-03-06', '2020-03-07', '2020-03-08'], dtype='datetime64[ns]', freq='D')"
      ]
     },
     "execution_count": 36,
     "metadata": {},
     "output_type": "execute_result"
    }
   ],
   "source": [
    "pd.date_range(end='2020-03-08', periods=3)"
   ]
  },
  {
   "cell_type": "code",
   "execution_count": 37,
   "metadata": {},
   "outputs": [
    {
     "data": {
      "text/plain": [
       "DatetimeIndex(['2020-03-01', '2020-03-08', '2020-03-15', '2020-03-22',\n",
       "               '2020-03-29'],\n",
       "              dtype='datetime64[ns]', freq='W-SUN')"
      ]
     },
     "execution_count": 37,
     "metadata": {},
     "output_type": "execute_result"
    }
   ],
   "source": [
    "# Sundays in March.\n",
    "pd.date_range('2020-03-01', '2020-03-31', freq='W-SUN')"
   ]
  },
  {
   "cell_type": "code",
   "execution_count": 62,
   "metadata": {},
   "outputs": [],
   "source": [
    "from pandas.tseries.offsets import Hour, Minute, MonthEnd"
   ]
  },
  {
   "cell_type": "code",
   "execution_count": 63,
   "metadata": {},
   "outputs": [
    {
     "data": {
      "text/plain": [
       "<Hour>"
      ]
     },
     "execution_count": 63,
     "metadata": {},
     "output_type": "execute_result"
    }
   ],
   "source": [
    "Hour()"
   ]
  },
  {
   "cell_type": "code",
   "execution_count": 64,
   "metadata": {},
   "outputs": [
    {
     "data": {
      "text/plain": [
       "<12 * Hours>"
      ]
     },
     "execution_count": 64,
     "metadata": {},
     "output_type": "execute_result"
    }
   ],
   "source": [
    "twelve_hours = Hour(12)\n",
    "twelve_hours"
   ]
  },
  {
   "cell_type": "code",
   "execution_count": 65,
   "metadata": {},
   "outputs": [
    {
     "data": {
      "text/plain": [
       "<31 * Minutes>"
      ]
     },
     "execution_count": 65,
     "metadata": {},
     "output_type": "execute_result"
    }
   ],
   "source": [
    "thirty_one_minutes = Minute(31)\n",
    "thirty_one_minutes"
   ]
  },
  {
   "cell_type": "code",
   "execution_count": 66,
   "metadata": {},
   "outputs": [
    {
     "data": {
      "text/plain": [
       "<751 * Minutes>"
      ]
     },
     "execution_count": 66,
     "metadata": {},
     "output_type": "execute_result"
    }
   ],
   "source": [
    "twelve_hours + thirty_one_minutes"
   ]
  },
  {
   "cell_type": "code",
   "execution_count": 67,
   "metadata": {},
   "outputs": [
    {
     "data": {
      "text/plain": [
       "DatetimeIndex(['2020-02-25 00:00:00', '2020-02-25 12:31:00',\n",
       "               '2020-02-26 01:02:00', '2020-02-26 13:33:00'],\n",
       "              dtype='datetime64[ns]', freq='751T')"
      ]
     },
     "execution_count": 67,
     "metadata": {},
     "output_type": "execute_result"
    }
   ],
   "source": [
    "pd.date_range('2020-02-25', '2020-02-27', freq='12h31min')"
   ]
  },
  {
   "cell_type": "code",
   "execution_count": 68,
   "metadata": {},
   "outputs": [
    {
     "data": {
      "text/plain": [
       "DatetimeIndex(['2020-02-25 00:00:00', '2020-02-25 12:31:00',\n",
       "               '2020-02-26 01:02:00', '2020-02-26 13:33:00'],\n",
       "              dtype='datetime64[ns]', freq='751T')"
      ]
     },
     "execution_count": 68,
     "metadata": {},
     "output_type": "execute_result"
    }
   ],
   "source": [
    "pd.date_range('2020-02-25', '2020-02-27', freq=Hour(12) + Minute(31))"
   ]
  },
  {
   "cell_type": "code",
   "execution_count": 69,
   "metadata": {},
   "outputs": [
    {
     "data": {
      "text/plain": [
       "2019-12-20    294\n",
       "2020-02-13    287\n",
       "2020-02-27    292\n",
       "2020-03-05    288\n",
       "dtype: int64"
      ]
     },
     "execution_count": 69,
     "metadata": {},
     "output_type": "execute_result"
    }
   ],
   "source": [
    "mile_races_seconds = pd.Series(\n",
    "    np.array([294, 287, 292, 288]),\n",
    "    [datetime(2019, 12, 20), datetime(2020, 2, 13), datetime(2020, 2, 27), datetime(2020, 3, 5)]\n",
    ")\n",
    "mile_races_seconds"
   ]
  },
  {
   "cell_type": "code",
   "execution_count": 78,
   "metadata": {},
   "outputs": [
    {
     "data": {
      "text/html": [
       "<div>\n",
       "<style scoped>\n",
       "    .dataframe tbody tr th:only-of-type {\n",
       "        vertical-align: middle;\n",
       "    }\n",
       "\n",
       "    .dataframe tbody tr th {\n",
       "        vertical-align: top;\n",
       "    }\n",
       "\n",
       "    .dataframe thead th {\n",
       "        text-align: right;\n",
       "    }\n",
       "</style>\n",
       "<table border=\"1\" class=\"dataframe\">\n",
       "  <thead>\n",
       "    <tr style=\"text-align: right;\">\n",
       "      <th></th>\n",
       "      <th>seconds</th>\n",
       "    </tr>\n",
       "  </thead>\n",
       "  <tbody>\n",
       "    <tr>\n",
       "      <th>2019-12-20</th>\n",
       "      <td>294</td>\n",
       "    </tr>\n",
       "    <tr>\n",
       "      <th>2020-02-13</th>\n",
       "      <td>287</td>\n",
       "    </tr>\n",
       "    <tr>\n",
       "      <th>2020-02-27</th>\n",
       "      <td>292</td>\n",
       "    </tr>\n",
       "    <tr>\n",
       "      <th>2020-03-05</th>\n",
       "      <td>288</td>\n",
       "    </tr>\n",
       "  </tbody>\n",
       "</table>\n",
       "</div>"
      ],
      "text/plain": [
       "            seconds\n",
       "2019-12-20      294\n",
       "2020-02-13      287\n",
       "2020-02-27      292\n",
       "2020-03-05      288"
      ]
     },
     "execution_count": 78,
     "metadata": {},
     "output_type": "execute_result"
    }
   ],
   "source": [
    "mile_races_sec_frame = mile_races_seconds.to_frame()\n",
    "mile_races_sec_frame.columns = ['seconds']\n",
    "mile_races_sec_frame"
   ]
  },
  {
   "cell_type": "code",
   "execution_count": 79,
   "metadata": {},
   "outputs": [
    {
     "data": {
      "text/html": [
       "<div>\n",
       "<style scoped>\n",
       "    .dataframe tbody tr th:only-of-type {\n",
       "        vertical-align: middle;\n",
       "    }\n",
       "\n",
       "    .dataframe tbody tr th {\n",
       "        vertical-align: top;\n",
       "    }\n",
       "\n",
       "    .dataframe thead th {\n",
       "        text-align: right;\n",
       "    }\n",
       "</style>\n",
       "<table border=\"1\" class=\"dataframe\">\n",
       "  <thead>\n",
       "    <tr style=\"text-align: right;\">\n",
       "      <th></th>\n",
       "      <th>seconds</th>\n",
       "      <th>sec_diff</th>\n",
       "      <th>percent_diff</th>\n",
       "    </tr>\n",
       "  </thead>\n",
       "  <tbody>\n",
       "    <tr>\n",
       "      <th>2019-12-20</th>\n",
       "      <td>294</td>\n",
       "      <td>NaN</td>\n",
       "      <td>NaN</td>\n",
       "    </tr>\n",
       "    <tr>\n",
       "      <th>2020-02-13</th>\n",
       "      <td>287</td>\n",
       "      <td>NaN</td>\n",
       "      <td>-2.380952</td>\n",
       "    </tr>\n",
       "    <tr>\n",
       "      <th>2020-02-27</th>\n",
       "      <td>292</td>\n",
       "      <td>NaN</td>\n",
       "      <td>1.742160</td>\n",
       "    </tr>\n",
       "    <tr>\n",
       "      <th>2020-03-05</th>\n",
       "      <td>288</td>\n",
       "      <td>NaN</td>\n",
       "      <td>-1.369863</td>\n",
       "    </tr>\n",
       "  </tbody>\n",
       "</table>\n",
       "</div>"
      ],
      "text/plain": [
       "            seconds  sec_diff  percent_diff\n",
       "2019-12-20      294       NaN           NaN\n",
       "2020-02-13      287       NaN     -2.380952\n",
       "2020-02-27      292       NaN      1.742160\n",
       "2020-03-05      288       NaN     -1.369863"
      ]
     },
     "execution_count": 79,
     "metadata": {},
     "output_type": "execute_result"
    }
   ],
   "source": [
    "mile_races_sec_frame['sec_diff'] = mile_races_sec_frame['seconds'] - mile_races_sec_frame['seconds'].shift(1)\n",
    "mile_races_sec_frame['percent_diff'] = (mile_races_sec_frame['seconds'] / mile_races_sec_frame['seconds'].shift(1) - 1) * 100\n",
    "mile_races_sec_frame"
   ]
  },
  {
   "cell_type": "code",
   "execution_count": 102,
   "metadata": {},
   "outputs": [
    {
     "data": {
      "text/html": [
       "<div>\n",
       "<style scoped>\n",
       "    .dataframe tbody tr th:only-of-type {\n",
       "        vertical-align: middle;\n",
       "    }\n",
       "\n",
       "    .dataframe tbody tr th {\n",
       "        vertical-align: top;\n",
       "    }\n",
       "\n",
       "    .dataframe thead th {\n",
       "        text-align: right;\n",
       "    }\n",
       "</style>\n",
       "<table border=\"1\" class=\"dataframe\">\n",
       "  <thead>\n",
       "    <tr style=\"text-align: right;\">\n",
       "      <th></th>\n",
       "      <th>0</th>\n",
       "    </tr>\n",
       "  </thead>\n",
       "  <tbody>\n",
       "    <tr>\n",
       "      <th>2019-12-31</th>\n",
       "      <td>294.0</td>\n",
       "    </tr>\n",
       "    <tr>\n",
       "      <th>2020-02-29</th>\n",
       "      <td>289.5</td>\n",
       "    </tr>\n",
       "    <tr>\n",
       "      <th>2020-03-31</th>\n",
       "      <td>288.0</td>\n",
       "    </tr>\n",
       "  </tbody>\n",
       "</table>\n",
       "</div>"
      ],
      "text/plain": [
       "                0\n",
       "2019-12-31  294.0\n",
       "2020-02-29  289.5\n",
       "2020-03-31  288.0"
      ]
     },
     "execution_count": 102,
     "metadata": {},
     "output_type": "execute_result"
    }
   ],
   "source": [
    "# Calculate the average seconds for mile races in each month.\n",
    "month_offset = MonthEnd()\n",
    "avg_per_month = mile_races_seconds.to_frame().groupby(month_offset.rollforward).mean()\n",
    "avg_per_month"
   ]
  },
  {
   "cell_type": "code",
   "execution_count": 103,
   "metadata": {},
   "outputs": [
    {
     "data": {
      "text/plain": [
       "True"
      ]
     },
     "execution_count": 103,
     "metadata": {},
     "output_type": "execute_result"
    }
   ],
   "source": [
    "avg_per_month.index.tz is None"
   ]
  },
  {
   "cell_type": "code",
   "execution_count": 104,
   "metadata": {},
   "outputs": [
    {
     "data": {
      "text/html": [
       "<div>\n",
       "<style scoped>\n",
       "    .dataframe tbody tr th:only-of-type {\n",
       "        vertical-align: middle;\n",
       "    }\n",
       "\n",
       "    .dataframe tbody tr th {\n",
       "        vertical-align: top;\n",
       "    }\n",
       "\n",
       "    .dataframe thead th {\n",
       "        text-align: right;\n",
       "    }\n",
       "</style>\n",
       "<table border=\"1\" class=\"dataframe\">\n",
       "  <thead>\n",
       "    <tr style=\"text-align: right;\">\n",
       "      <th></th>\n",
       "      <th>month</th>\n",
       "      <th>average time</th>\n",
       "    </tr>\n",
       "  </thead>\n",
       "  <tbody>\n",
       "    <tr>\n",
       "      <th>0</th>\n",
       "      <td>2019-12-31</td>\n",
       "      <td>294.0</td>\n",
       "    </tr>\n",
       "    <tr>\n",
       "      <th>1</th>\n",
       "      <td>2020-02-29</td>\n",
       "      <td>289.5</td>\n",
       "    </tr>\n",
       "    <tr>\n",
       "      <th>2</th>\n",
       "      <td>2020-03-31</td>\n",
       "      <td>288.0</td>\n",
       "    </tr>\n",
       "  </tbody>\n",
       "</table>\n",
       "</div>"
      ],
      "text/plain": [
       "       month  average time\n",
       "0 2019-12-31         294.0\n",
       "1 2020-02-29         289.5\n",
       "2 2020-03-31         288.0"
      ]
     },
     "execution_count": 104,
     "metadata": {},
     "output_type": "execute_result"
    }
   ],
   "source": [
    "avg_per_month = avg_per_month.reset_index()\n",
    "avg_per_month.columns = ['month', 'average time']\n",
    "avg_per_month"
   ]
  },
  {
   "cell_type": "code",
   "execution_count": 105,
   "metadata": {},
   "outputs": [
    {
     "data": {
      "text/html": [
       "<div>\n",
       "<style scoped>\n",
       "    .dataframe tbody tr th:only-of-type {\n",
       "        vertical-align: middle;\n",
       "    }\n",
       "\n",
       "    .dataframe tbody tr th {\n",
       "        vertical-align: top;\n",
       "    }\n",
       "\n",
       "    .dataframe thead th {\n",
       "        text-align: right;\n",
       "    }\n",
       "</style>\n",
       "<table border=\"1\" class=\"dataframe\">\n",
       "  <thead>\n",
       "    <tr style=\"text-align: right;\">\n",
       "      <th></th>\n",
       "      <th>average time</th>\n",
       "    </tr>\n",
       "    <tr>\n",
       "      <th>month</th>\n",
       "      <th></th>\n",
       "    </tr>\n",
       "  </thead>\n",
       "  <tbody>\n",
       "    <tr>\n",
       "      <th>2019-12-31</th>\n",
       "      <td>294.0</td>\n",
       "    </tr>\n",
       "    <tr>\n",
       "      <th>2020-02-29</th>\n",
       "      <td>289.5</td>\n",
       "    </tr>\n",
       "    <tr>\n",
       "      <th>2020-03-31</th>\n",
       "      <td>288.0</td>\n",
       "    </tr>\n",
       "  </tbody>\n",
       "</table>\n",
       "</div>"
      ],
      "text/plain": [
       "            average time\n",
       "month                   \n",
       "2019-12-31         294.0\n",
       "2020-02-29         289.5\n",
       "2020-03-31         288.0"
      ]
     },
     "execution_count": 105,
     "metadata": {},
     "output_type": "execute_result"
    }
   ],
   "source": [
    "avg_per_month = avg_per_month.set_index(['month'])\n",
    "avg_per_month"
   ]
  },
  {
   "cell_type": "code",
   "execution_count": 107,
   "metadata": {},
   "outputs": [
    {
     "data": {
      "text/html": [
       "<div>\n",
       "<style scoped>\n",
       "    .dataframe tbody tr th:only-of-type {\n",
       "        vertical-align: middle;\n",
       "    }\n",
       "\n",
       "    .dataframe tbody tr th {\n",
       "        vertical-align: top;\n",
       "    }\n",
       "\n",
       "    .dataframe thead th {\n",
       "        text-align: right;\n",
       "    }\n",
       "</style>\n",
       "<table border=\"1\" class=\"dataframe\">\n",
       "  <thead>\n",
       "    <tr style=\"text-align: right;\">\n",
       "      <th></th>\n",
       "      <th>average time</th>\n",
       "    </tr>\n",
       "    <tr>\n",
       "      <th>month</th>\n",
       "      <th></th>\n",
       "    </tr>\n",
       "  </thead>\n",
       "  <tbody>\n",
       "    <tr>\n",
       "      <th>2019-12-31 00:00:00-05:00</th>\n",
       "      <td>294.0</td>\n",
       "    </tr>\n",
       "    <tr>\n",
       "      <th>2020-02-29 00:00:00-05:00</th>\n",
       "      <td>289.5</td>\n",
       "    </tr>\n",
       "    <tr>\n",
       "      <th>2020-03-31 00:00:00-04:00</th>\n",
       "      <td>288.0</td>\n",
       "    </tr>\n",
       "  </tbody>\n",
       "</table>\n",
       "</div>"
      ],
      "text/plain": [
       "                           average time\n",
       "month                                  \n",
       "2019-12-31 00:00:00-05:00         294.0\n",
       "2020-02-29 00:00:00-05:00         289.5\n",
       "2020-03-31 00:00:00-04:00         288.0"
      ]
     },
     "execution_count": 107,
     "metadata": {},
     "output_type": "execute_result"
    }
   ],
   "source": [
    "avg_per_month.tz_localize('America/New_York')"
   ]
  },
  {
   "cell_type": "code",
   "execution_count": 108,
   "metadata": {},
   "outputs": [
    {
     "data": {
      "text/plain": [
       "Timestamp('2020-03-08 01:59:00-0500', tz='US/Eastern')"
      ]
     },
     "execution_count": 108,
     "metadata": {},
     "output_type": "execute_result"
    }
   ],
   "source": [
    "# Addition of time intervals respects daylight savings time.\n",
    "hour_before_dst = pd.Timestamp('2020-03-08 01:59', tz='US/Eastern')\n",
    "hour_before_dst"
   ]
  },
  {
   "cell_type": "code",
   "execution_count": 109,
   "metadata": {},
   "outputs": [
    {
     "data": {
      "text/plain": [
       "Timestamp('2020-03-08 03:59:00-0400', tz='US/Eastern')"
      ]
     },
     "execution_count": 109,
     "metadata": {},
     "output_type": "execute_result"
    }
   ],
   "source": [
    "hour_before_dst + Hour()"
   ]
  },
  {
   "cell_type": "code",
   "execution_count": 115,
   "metadata": {},
   "outputs": [
    {
     "data": {
      "text/plain": [
       "Period('2021', 'A-FEB')"
      ]
     },
     "execution_count": 115,
     "metadata": {},
     "output_type": "execute_result"
    }
   ],
   "source": [
    "period = pd.Period('2021', 'A-FEB')\n",
    "period"
   ]
  },
  {
   "cell_type": "code",
   "execution_count": 116,
   "metadata": {},
   "outputs": [
    {
     "data": {
      "text/plain": [
       "Period('2022', 'A-FEB')"
      ]
     },
     "execution_count": 116,
     "metadata": {},
     "output_type": "execute_result"
    }
   ],
   "source": [
    "period + 1"
   ]
  },
  {
   "cell_type": "code",
   "execution_count": 117,
   "metadata": {},
   "outputs": [
    {
     "data": {
      "text/plain": [
       "Period('2020-03-01', 'D')"
      ]
     },
     "execution_count": 117,
     "metadata": {},
     "output_type": "execute_result"
    }
   ],
   "source": [
    "period.asfreq('D', how='start')"
   ]
  },
  {
   "cell_type": "code",
   "execution_count": 118,
   "metadata": {},
   "outputs": [
    {
     "data": {
      "text/plain": [
       "Period('2021-02-28', 'D')"
      ]
     },
     "execution_count": 118,
     "metadata": {},
     "output_type": "execute_result"
    }
   ],
   "source": [
    "period.asfreq('D', how='end')"
   ]
  },
  {
   "cell_type": "code",
   "execution_count": 121,
   "metadata": {},
   "outputs": [
    {
     "data": {
      "text/plain": [
       "PeriodIndex(['2019Q4', '2020Q1', '2020Q2', '2020Q3', '2020Q4'], dtype='period[Q-FEB]', freq='Q-FEB')"
      ]
     },
     "execution_count": 121,
     "metadata": {},
     "output_type": "execute_result"
    }
   ],
   "source": [
    "pd.period_range('2019', '2020', freq='Q-FEB')"
   ]
  },
  {
   "cell_type": "code",
   "execution_count": 122,
   "metadata": {},
   "outputs": [
    {
     "data": {
      "text/plain": [
       "2020-02-01    11.56\n",
       "2020-02-02    12.00\n",
       "2020-02-03     2.34\n",
       "2020-02-04     3.63\n",
       "2020-02-05     2.85\n",
       "2020-02-06     3.06\n",
       "2020-02-07     3.92\n",
       "2020-02-08     7.87\n",
       "2020-02-09    12.50\n",
       "2020-02-10     2.81\n",
       "2020-02-11     3.80\n",
       "2020-02-12     2.65\n",
       "2020-02-13     7.50\n",
       "2020-02-14     2.63\n",
       "2020-02-15    14.00\n",
       "2020-02-16    13.21\n",
       "2020-02-17     1.28\n",
       "2020-02-18     1.88\n",
       "2020-02-19     2.64\n",
       "2020-02-20     5.20\n",
       "2020-02-21     3.76\n",
       "2020-02-22     7.87\n",
       "2020-02-23    12.59\n",
       "2020-02-24     2.81\n",
       "2020-02-25     2.81\n",
       "2020-02-26     3.45\n",
       "2020-02-27     2.60\n",
       "2020-02-28     2.91\n",
       "2020-02-29     5.20\n",
       "Freq: D, dtype: float64"
      ]
     },
     "execution_count": 122,
     "metadata": {},
     "output_type": "execute_result"
    }
   ],
   "source": [
    "feb_days = pd.date_range('2020-02-01', periods=29, freq='D')\n",
    "run_lengths = np.array([\n",
    "    11.56, 12, \n",
    "    2.34, 3.63, 2.85, 3.06, 3.92, 7.87, 12.5, \n",
    "    2.81, 3.8, 2.65, 7.5, 2.63, 14, 13.21, \n",
    "    1.28, 1.88, 2.64, 5.20, 3.76, 7.87, 12.59, \n",
    "    2.81, 2.81, 3.45, 2.6, 2.91, 5.2\n",
    "])\n",
    "feb_runs = pd.Series(run_lengths, feb_days)\n",
    "feb_runs"
   ]
  },
  {
   "cell_type": "code",
   "execution_count": 123,
   "metadata": {},
   "outputs": [
    {
     "data": {
      "text/plain": [
       "2020-02-02    11.780000\n",
       "2020-02-09     5.167143\n",
       "2020-02-16     6.657143\n",
       "2020-02-23     5.031429\n",
       "2020-03-01     3.296667\n",
       "Freq: W-SUN, dtype: float64"
      ]
     },
     "execution_count": 123,
     "metadata": {},
     "output_type": "execute_result"
    }
   ],
   "source": [
    "# Downsampling to find the average length of a run each week.\n",
    "feb_runs.resample('W').mean()"
   ]
  },
  {
   "cell_type": "code",
   "execution_count": 126,
   "metadata": {},
   "outputs": [
    {
     "data": {
      "text/plain": [
       "2020-01-26    11.780000\n",
       "2020-02-02     5.167143\n",
       "2020-02-09     6.657143\n",
       "2020-02-16     5.031429\n",
       "2020-02-23     3.296667\n",
       "Freq: W-SUN, dtype: float64"
      ]
     },
     "execution_count": 126,
     "metadata": {},
     "output_type": "execute_result"
    }
   ],
   "source": [
    "feb_runs.resample('W', label='left').mean()"
   ]
  },
  {
   "cell_type": "code",
   "execution_count": 125,
   "metadata": {},
   "outputs": [
    {
     "data": {
      "text/plain": [
       "2020-01-26    23.56\n",
       "2020-02-02    36.17\n",
       "2020-02-09    46.60\n",
       "2020-02-16    35.22\n",
       "2020-02-23    19.78\n",
       "Freq: W-SUN, dtype: float64"
      ]
     },
     "execution_count": 125,
     "metadata": {},
     "output_type": "execute_result"
    }
   ],
   "source": [
    "feb_runs.resample('W', label='left').sum()"
   ]
  },
  {
   "cell_type": "code",
   "execution_count": 129,
   "metadata": {},
   "outputs": [
    {
     "data": {
      "text/plain": [
       "2013Q1    295\n",
       "2014Q1    280\n",
       "2014Q4    283\n",
       "2015Q1    280\n",
       "2016Q1    281\n",
       "2016Q2    267\n",
       "2020Q1    287\n",
       "Freq: Q-DEC, dtype: int64"
      ]
     },
     "execution_count": 129,
     "metadata": {},
     "output_type": "execute_result"
    }
   ],
   "source": [
    "# Upsampling mile and converted 1500m times.\n",
    "quarters = [pd.Period('2013Q1'), pd.Period('2014Q1'), pd.Period('2014Q4'), pd.Period('2015Q1'), pd.Period('2016Q1'), pd.Period('2016Q2'), pd.Period('2020Q1')]\n",
    "times_in_sec = [295, 280, 283, 280, 281, 267, 287]\n",
    "mile_progression = pd.Series(times_in_sec, quarters)\n",
    "mile_progression"
   ]
  },
  {
   "cell_type": "code",
   "execution_count": 130,
   "metadata": {},
   "outputs": [
    {
     "data": {
      "text/plain": [
       "2013Q1    295.0\n",
       "2013Q2      NaN\n",
       "2013Q3      NaN\n",
       "2013Q4      NaN\n",
       "2014Q1    280.0\n",
       "2014Q2      NaN\n",
       "2014Q3      NaN\n",
       "2014Q4    283.0\n",
       "2015Q1    280.0\n",
       "2015Q2      NaN\n",
       "2015Q3      NaN\n",
       "2015Q4      NaN\n",
       "2016Q1    281.0\n",
       "2016Q2    267.0\n",
       "2016Q3      NaN\n",
       "2016Q4      NaN\n",
       "2017Q1      NaN\n",
       "2017Q2      NaN\n",
       "2017Q3      NaN\n",
       "2017Q4      NaN\n",
       "2018Q1      NaN\n",
       "2018Q2      NaN\n",
       "2018Q3      NaN\n",
       "2018Q4      NaN\n",
       "2019Q1      NaN\n",
       "2019Q2      NaN\n",
       "2019Q3      NaN\n",
       "2019Q4      NaN\n",
       "2020Q1    287.0\n",
       "Freq: Q-DEC, dtype: float64"
      ]
     },
     "execution_count": 130,
     "metadata": {},
     "output_type": "execute_result"
    }
   ],
   "source": [
    "mile_progression.resample('Q').asfreq()"
   ]
  },
  {
   "cell_type": "code",
   "execution_count": 131,
   "metadata": {},
   "outputs": [
    {
     "data": {
      "text/plain": [
       "2013Q1    295\n",
       "2013Q2    295\n",
       "2013Q3    295\n",
       "2013Q4    295\n",
       "2014Q1    280\n",
       "2014Q2    280\n",
       "2014Q3    280\n",
       "2014Q4    283\n",
       "2015Q1    280\n",
       "2015Q2    280\n",
       "2015Q3    280\n",
       "2015Q4    280\n",
       "2016Q1    281\n",
       "2016Q2    267\n",
       "2016Q3    267\n",
       "2016Q4    267\n",
       "2017Q1    267\n",
       "2017Q2    267\n",
       "2017Q3    267\n",
       "2017Q4    267\n",
       "2018Q1    267\n",
       "2018Q2    267\n",
       "2018Q3    267\n",
       "2018Q4    267\n",
       "2019Q1    267\n",
       "2019Q2    267\n",
       "2019Q3    267\n",
       "2019Q4    267\n",
       "2020Q1    287\n",
       "Freq: Q-DEC, dtype: int64"
      ]
     },
     "execution_count": 131,
     "metadata": {},
     "output_type": "execute_result"
    }
   ],
   "source": [
    "mile_progression.resample('Q').ffill()"
   ]
  },
  {
   "cell_type": "code",
   "execution_count": null,
   "metadata": {},
   "outputs": [],
   "source": []
  }
 ],
 "metadata": {
  "kernelspec": {
   "display_name": "Python 3",
   "language": "python",
   "name": "python3"
  },
  "language_info": {
   "codemirror_mode": {
    "name": "ipython",
    "version": 3
   },
   "file_extension": ".py",
   "mimetype": "text/x-python",
   "name": "python",
   "nbconvert_exporter": "python",
   "pygments_lexer": "ipython3",
   "version": "3.8.0"
  }
 },
 "nbformat": 4,
 "nbformat_minor": 4
}
